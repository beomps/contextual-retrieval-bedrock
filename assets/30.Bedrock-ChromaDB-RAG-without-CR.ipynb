{
 "cells": [
  {
   "cell_type": "markdown",
   "id": "4d7cfd55-6998-44b4-8d2d-e9a40968b4d7",
   "metadata": {},
   "source": [
    "# RAG without Contextual Retrieval\n",
    "아래의 Component를 사용했습니다.\n",
    "- Framework: Langchain\n",
    "- LLM: Bedrock Claude\n",
    "- Embedding: Amazon Titan\n",
    "- Vector Store: ChromaDB"
   ]
  },
  {
   "cell_type": "markdown",
   "id": "7c4ffa62-6d64-4e04-9da7-b2361b63862b",
   "metadata": {},
   "source": [
    "# Configuring Environment"
   ]
  },
  {
   "cell_type": "code",
   "execution_count": 2,
   "id": "05f4051f-8df1-41f1-8683-df7ca86c5351",
   "metadata": {
    "tags": []
   },
   "outputs": [
    {
     "name": "stdout",
     "output_type": "stream",
     "text": [
      "Requirement already satisfied: langchain in /home/ec2-user/anaconda3/envs/python3/lib/python3.10/site-packages (0.2.8)\n",
      "Requirement already satisfied: PyYAML>=5.3 in /home/ec2-user/anaconda3/envs/python3/lib/python3.10/site-packages (from langchain) (6.0.1)\n",
      "Requirement already satisfied: SQLAlchemy<3,>=1.4 in /home/ec2-user/anaconda3/envs/python3/lib/python3.10/site-packages (from langchain) (2.0.29)\n",
      "Requirement already satisfied: aiohttp<4.0.0,>=3.8.3 in /home/ec2-user/anaconda3/envs/python3/lib/python3.10/site-packages (from langchain) (3.9.3)\n",
      "Requirement already satisfied: async-timeout<5.0.0,>=4.0.0 in /home/ec2-user/anaconda3/envs/python3/lib/python3.10/site-packages (from langchain) (4.0.3)\n",
      "Requirement already satisfied: langchain-core<0.3.0,>=0.2.19 in /home/ec2-user/anaconda3/envs/python3/lib/python3.10/site-packages (from langchain) (0.2.41)\n",
      "Requirement already satisfied: langchain-text-splitters<0.3.0,>=0.2.0 in /home/ec2-user/anaconda3/envs/python3/lib/python3.10/site-packages (from langchain) (0.2.4)\n",
      "Requirement already satisfied: langsmith<0.2.0,>=0.1.17 in /home/ec2-user/anaconda3/envs/python3/lib/python3.10/site-packages (from langchain) (0.1.134)\n",
      "Requirement already satisfied: numpy<2,>=1 in /home/ec2-user/anaconda3/envs/python3/lib/python3.10/site-packages (from langchain) (1.26.4)\n",
      "Requirement already satisfied: pydantic<3,>=1 in /home/ec2-user/anaconda3/envs/python3/lib/python3.10/site-packages (from langchain) (2.7.0)\n",
      "Requirement already satisfied: requests<3,>=2 in /home/ec2-user/anaconda3/envs/python3/lib/python3.10/site-packages (from langchain) (2.32.3)\n",
      "Requirement already satisfied: tenacity!=8.4.0,<9.0.0,>=8.1.0 in /home/ec2-user/anaconda3/envs/python3/lib/python3.10/site-packages (from langchain) (8.2.3)\n",
      "Requirement already satisfied: aiosignal>=1.1.2 in /home/ec2-user/anaconda3/envs/python3/lib/python3.10/site-packages (from aiohttp<4.0.0,>=3.8.3->langchain) (1.3.1)\n",
      "Requirement already satisfied: attrs>=17.3.0 in /home/ec2-user/anaconda3/envs/python3/lib/python3.10/site-packages (from aiohttp<4.0.0,>=3.8.3->langchain) (23.2.0)\n",
      "Requirement already satisfied: frozenlist>=1.1.1 in /home/ec2-user/anaconda3/envs/python3/lib/python3.10/site-packages (from aiohttp<4.0.0,>=3.8.3->langchain) (1.4.1)\n",
      "Requirement already satisfied: multidict<7.0,>=4.5 in /home/ec2-user/anaconda3/envs/python3/lib/python3.10/site-packages (from aiohttp<4.0.0,>=3.8.3->langchain) (6.0.5)\n",
      "Requirement already satisfied: yarl<2.0,>=1.0 in /home/ec2-user/anaconda3/envs/python3/lib/python3.10/site-packages (from aiohttp<4.0.0,>=3.8.3->langchain) (1.9.4)\n",
      "Requirement already satisfied: jsonpatch<2.0,>=1.33 in /home/ec2-user/anaconda3/envs/python3/lib/python3.10/site-packages (from langchain-core<0.3.0,>=0.2.19->langchain) (1.33)\n",
      "Requirement already satisfied: packaging<25,>=23.2 in /home/ec2-user/anaconda3/envs/python3/lib/python3.10/site-packages (from langchain-core<0.3.0,>=0.2.19->langchain) (23.2)\n",
      "Requirement already satisfied: typing-extensions>=4.7 in /home/ec2-user/anaconda3/envs/python3/lib/python3.10/site-packages (from langchain-core<0.3.0,>=0.2.19->langchain) (4.9.0)\n",
      "Requirement already satisfied: httpx<1,>=0.23.0 in /home/ec2-user/anaconda3/envs/python3/lib/python3.10/site-packages (from langsmith<0.2.0,>=0.1.17->langchain) (0.27.0)\n",
      "Requirement already satisfied: orjson<4.0.0,>=3.9.14 in /home/ec2-user/anaconda3/envs/python3/lib/python3.10/site-packages (from langsmith<0.2.0,>=0.1.17->langchain) (3.10.1)\n",
      "Requirement already satisfied: requests-toolbelt<2.0.0,>=1.0.0 in /home/ec2-user/anaconda3/envs/python3/lib/python3.10/site-packages (from langsmith<0.2.0,>=0.1.17->langchain) (1.0.0)\n",
      "Requirement already satisfied: annotated-types>=0.4.0 in /home/ec2-user/anaconda3/envs/python3/lib/python3.10/site-packages (from pydantic<3,>=1->langchain) (0.6.0)\n",
      "Requirement already satisfied: pydantic-core==2.18.1 in /home/ec2-user/anaconda3/envs/python3/lib/python3.10/site-packages (from pydantic<3,>=1->langchain) (2.18.1)\n",
      "Requirement already satisfied: charset-normalizer<4,>=2 in /home/ec2-user/anaconda3/envs/python3/lib/python3.10/site-packages (from requests<3,>=2->langchain) (3.3.2)\n",
      "Requirement already satisfied: idna<4,>=2.5 in /home/ec2-user/anaconda3/envs/python3/lib/python3.10/site-packages (from requests<3,>=2->langchain) (3.7)\n",
      "Requirement already satisfied: urllib3<3,>=1.21.1 in /home/ec2-user/anaconda3/envs/python3/lib/python3.10/site-packages (from requests<3,>=2->langchain) (2.2.3)\n",
      "Requirement already satisfied: certifi>=2017.4.17 in /home/ec2-user/anaconda3/envs/python3/lib/python3.10/site-packages (from requests<3,>=2->langchain) (2024.6.2)\n",
      "Requirement already satisfied: greenlet!=0.4.17 in /home/ec2-user/anaconda3/envs/python3/lib/python3.10/site-packages (from SQLAlchemy<3,>=1.4->langchain) (3.0.3)\n",
      "Requirement already satisfied: anyio in /home/ec2-user/anaconda3/envs/python3/lib/python3.10/site-packages (from httpx<1,>=0.23.0->langsmith<0.2.0,>=0.1.17->langchain) (4.3.0)\n",
      "Requirement already satisfied: httpcore==1.* in /home/ec2-user/anaconda3/envs/python3/lib/python3.10/site-packages (from httpx<1,>=0.23.0->langsmith<0.2.0,>=0.1.17->langchain) (1.0.4)\n",
      "Requirement already satisfied: sniffio in /home/ec2-user/anaconda3/envs/python3/lib/python3.10/site-packages (from httpx<1,>=0.23.0->langsmith<0.2.0,>=0.1.17->langchain) (1.3.0)\n",
      "Requirement already satisfied: h11<0.15,>=0.13 in /home/ec2-user/anaconda3/envs/python3/lib/python3.10/site-packages (from httpcore==1.*->httpx<1,>=0.23.0->langsmith<0.2.0,>=0.1.17->langchain) (0.14.0)\n",
      "Requirement already satisfied: jsonpointer>=1.9 in /home/ec2-user/anaconda3/envs/python3/lib/python3.10/site-packages (from jsonpatch<2.0,>=1.33->langchain-core<0.3.0,>=0.2.19->langchain) (2.4)\n",
      "Requirement already satisfied: exceptiongroup>=1.0.2 in /home/ec2-user/anaconda3/envs/python3/lib/python3.10/site-packages (from anyio->httpx<1,>=0.23.0->langsmith<0.2.0,>=0.1.17->langchain) (1.2.0)\n"
     ]
    }
   ],
   "source": [
    "!pip install langchain"
   ]
  },
  {
   "cell_type": "code",
   "execution_count": 3,
   "id": "5624febf-577a-477b-be97-03348edfffe5",
   "metadata": {
    "tags": []
   },
   "outputs": [
    {
     "name": "stdout",
     "output_type": "stream",
     "text": [
      "Requirement already satisfied: langchain-community in /home/ec2-user/anaconda3/envs/python3/lib/python3.10/site-packages (0.2.7)\n",
      "Collecting langchain-community\n",
      "  Downloading langchain_community-0.3.2-py3-none-any.whl.metadata (2.8 kB)\n",
      "Requirement already satisfied: PyYAML>=5.3 in /home/ec2-user/anaconda3/envs/python3/lib/python3.10/site-packages (from langchain-community) (6.0.1)\n",
      "Requirement already satisfied: SQLAlchemy<3,>=1.4 in /home/ec2-user/anaconda3/envs/python3/lib/python3.10/site-packages (from langchain-community) (2.0.29)\n",
      "Requirement already satisfied: aiohttp<4.0.0,>=3.8.3 in /home/ec2-user/anaconda3/envs/python3/lib/python3.10/site-packages (from langchain-community) (3.9.3)\n",
      "Requirement already satisfied: dataclasses-json<0.7,>=0.5.7 in /home/ec2-user/anaconda3/envs/python3/lib/python3.10/site-packages (from langchain-community) (0.6.4)\n",
      "Collecting langchain<0.4.0,>=0.3.3 (from langchain-community)\n",
      "  Downloading langchain-0.3.3-py3-none-any.whl.metadata (7.1 kB)\n",
      "Collecting langchain-core<0.4.0,>=0.3.10 (from langchain-community)\n",
      "  Using cached langchain_core-0.3.10-py3-none-any.whl.metadata (6.3 kB)\n",
      "Requirement already satisfied: langsmith<0.2.0,>=0.1.125 in /home/ec2-user/anaconda3/envs/python3/lib/python3.10/site-packages (from langchain-community) (0.1.134)\n",
      "Requirement already satisfied: numpy<2,>=1 in /home/ec2-user/anaconda3/envs/python3/lib/python3.10/site-packages (from langchain-community) (1.26.4)\n",
      "Collecting pydantic-settings<3.0.0,>=2.4.0 (from langchain-community)\n",
      "  Downloading pydantic_settings-2.5.2-py3-none-any.whl.metadata (3.5 kB)\n",
      "Requirement already satisfied: requests<3,>=2 in /home/ec2-user/anaconda3/envs/python3/lib/python3.10/site-packages (from langchain-community) (2.32.3)\n",
      "Requirement already satisfied: tenacity!=8.4.0,<9.0.0,>=8.1.0 in /home/ec2-user/anaconda3/envs/python3/lib/python3.10/site-packages (from langchain-community) (8.2.3)\n",
      "Requirement already satisfied: aiosignal>=1.1.2 in /home/ec2-user/anaconda3/envs/python3/lib/python3.10/site-packages (from aiohttp<4.0.0,>=3.8.3->langchain-community) (1.3.1)\n",
      "Requirement already satisfied: attrs>=17.3.0 in /home/ec2-user/anaconda3/envs/python3/lib/python3.10/site-packages (from aiohttp<4.0.0,>=3.8.3->langchain-community) (23.2.0)\n",
      "Requirement already satisfied: frozenlist>=1.1.1 in /home/ec2-user/anaconda3/envs/python3/lib/python3.10/site-packages (from aiohttp<4.0.0,>=3.8.3->langchain-community) (1.4.1)\n",
      "Requirement already satisfied: multidict<7.0,>=4.5 in /home/ec2-user/anaconda3/envs/python3/lib/python3.10/site-packages (from aiohttp<4.0.0,>=3.8.3->langchain-community) (6.0.5)\n",
      "Requirement already satisfied: yarl<2.0,>=1.0 in /home/ec2-user/anaconda3/envs/python3/lib/python3.10/site-packages (from aiohttp<4.0.0,>=3.8.3->langchain-community) (1.9.4)\n",
      "Requirement already satisfied: async-timeout<5.0,>=4.0 in /home/ec2-user/anaconda3/envs/python3/lib/python3.10/site-packages (from aiohttp<4.0.0,>=3.8.3->langchain-community) (4.0.3)\n",
      "Requirement already satisfied: marshmallow<4.0.0,>=3.18.0 in /home/ec2-user/anaconda3/envs/python3/lib/python3.10/site-packages (from dataclasses-json<0.7,>=0.5.7->langchain-community) (3.21.1)\n",
      "Requirement already satisfied: typing-inspect<1,>=0.4.0 in /home/ec2-user/anaconda3/envs/python3/lib/python3.10/site-packages (from dataclasses-json<0.7,>=0.5.7->langchain-community) (0.9.0)\n",
      "Collecting langchain-text-splitters<0.4.0,>=0.3.0 (from langchain<0.4.0,>=0.3.3->langchain-community)\n",
      "  Using cached langchain_text_splitters-0.3.0-py3-none-any.whl.metadata (2.3 kB)\n",
      "Collecting pydantic<3.0.0,>=2.7.4 (from langchain<0.4.0,>=0.3.3->langchain-community)\n",
      "  Downloading pydantic-2.9.2-py3-none-any.whl.metadata (149 kB)\n",
      "Requirement already satisfied: jsonpatch<2.0,>=1.33 in /home/ec2-user/anaconda3/envs/python3/lib/python3.10/site-packages (from langchain-core<0.4.0,>=0.3.10->langchain-community) (1.33)\n",
      "Requirement already satisfied: packaging<25,>=23.2 in /home/ec2-user/anaconda3/envs/python3/lib/python3.10/site-packages (from langchain-core<0.4.0,>=0.3.10->langchain-community) (23.2)\n",
      "Requirement already satisfied: typing-extensions>=4.7 in /home/ec2-user/anaconda3/envs/python3/lib/python3.10/site-packages (from langchain-core<0.4.0,>=0.3.10->langchain-community) (4.9.0)\n",
      "Requirement already satisfied: httpx<1,>=0.23.0 in /home/ec2-user/anaconda3/envs/python3/lib/python3.10/site-packages (from langsmith<0.2.0,>=0.1.125->langchain-community) (0.27.0)\n",
      "Requirement already satisfied: orjson<4.0.0,>=3.9.14 in /home/ec2-user/anaconda3/envs/python3/lib/python3.10/site-packages (from langsmith<0.2.0,>=0.1.125->langchain-community) (3.10.1)\n",
      "Requirement already satisfied: requests-toolbelt<2.0.0,>=1.0.0 in /home/ec2-user/anaconda3/envs/python3/lib/python3.10/site-packages (from langsmith<0.2.0,>=0.1.125->langchain-community) (1.0.0)\n",
      "Requirement already satisfied: python-dotenv>=0.21.0 in /home/ec2-user/anaconda3/envs/python3/lib/python3.10/site-packages (from pydantic-settings<3.0.0,>=2.4.0->langchain-community) (1.0.1)\n",
      "Requirement already satisfied: charset-normalizer<4,>=2 in /home/ec2-user/anaconda3/envs/python3/lib/python3.10/site-packages (from requests<3,>=2->langchain-community) (3.3.2)\n",
      "Requirement already satisfied: idna<4,>=2.5 in /home/ec2-user/anaconda3/envs/python3/lib/python3.10/site-packages (from requests<3,>=2->langchain-community) (3.7)\n",
      "Requirement already satisfied: urllib3<3,>=1.21.1 in /home/ec2-user/anaconda3/envs/python3/lib/python3.10/site-packages (from requests<3,>=2->langchain-community) (2.2.3)\n",
      "Requirement already satisfied: certifi>=2017.4.17 in /home/ec2-user/anaconda3/envs/python3/lib/python3.10/site-packages (from requests<3,>=2->langchain-community) (2024.6.2)\n",
      "Requirement already satisfied: greenlet!=0.4.17 in /home/ec2-user/anaconda3/envs/python3/lib/python3.10/site-packages (from SQLAlchemy<3,>=1.4->langchain-community) (3.0.3)\n",
      "Requirement already satisfied: anyio in /home/ec2-user/anaconda3/envs/python3/lib/python3.10/site-packages (from httpx<1,>=0.23.0->langsmith<0.2.0,>=0.1.125->langchain-community) (4.3.0)\n",
      "Requirement already satisfied: httpcore==1.* in /home/ec2-user/anaconda3/envs/python3/lib/python3.10/site-packages (from httpx<1,>=0.23.0->langsmith<0.2.0,>=0.1.125->langchain-community) (1.0.4)\n",
      "Requirement already satisfied: sniffio in /home/ec2-user/anaconda3/envs/python3/lib/python3.10/site-packages (from httpx<1,>=0.23.0->langsmith<0.2.0,>=0.1.125->langchain-community) (1.3.0)\n",
      "Requirement already satisfied: h11<0.15,>=0.13 in /home/ec2-user/anaconda3/envs/python3/lib/python3.10/site-packages (from httpcore==1.*->httpx<1,>=0.23.0->langsmith<0.2.0,>=0.1.125->langchain-community) (0.14.0)\n",
      "Requirement already satisfied: jsonpointer>=1.9 in /home/ec2-user/anaconda3/envs/python3/lib/python3.10/site-packages (from jsonpatch<2.0,>=1.33->langchain-core<0.4.0,>=0.3.10->langchain-community) (2.4)\n",
      "Requirement already satisfied: annotated-types>=0.6.0 in /home/ec2-user/anaconda3/envs/python3/lib/python3.10/site-packages (from pydantic<3.0.0,>=2.7.4->langchain<0.4.0,>=0.3.3->langchain-community) (0.6.0)\n",
      "Collecting pydantic-core==2.23.4 (from pydantic<3.0.0,>=2.7.4->langchain<0.4.0,>=0.3.3->langchain-community)\n",
      "  Downloading pydantic_core-2.23.4-cp310-cp310-manylinux_2_17_x86_64.manylinux2014_x86_64.whl.metadata (6.6 kB)\n",
      "Requirement already satisfied: mypy-extensions>=0.3.0 in /home/ec2-user/anaconda3/envs/python3/lib/python3.10/site-packages (from typing-inspect<1,>=0.4.0->dataclasses-json<0.7,>=0.5.7->langchain-community) (1.0.0)\n",
      "Requirement already satisfied: exceptiongroup>=1.0.2 in /home/ec2-user/anaconda3/envs/python3/lib/python3.10/site-packages (from anyio->httpx<1,>=0.23.0->langsmith<0.2.0,>=0.1.125->langchain-community) (1.2.0)\n",
      "Downloading langchain_community-0.3.2-py3-none-any.whl (2.4 MB)\n",
      "\u001b[2K   \u001b[90m━━━━━━━━━━━━━━━━━━━━━━━━━━━━━━━━━━━━━━━━\u001b[0m \u001b[32m2.4/2.4 MB\u001b[0m \u001b[31m100.2 MB/s\u001b[0m eta \u001b[36m0:00:00\u001b[0m\n",
      "\u001b[?25hDownloading langchain-0.3.3-py3-none-any.whl (1.0 MB)\n",
      "\u001b[2K   \u001b[90m━━━━━━━━━━━━━━━━━━━━━━━━━━━━━━━━━━━━━━━━\u001b[0m \u001b[32m1.0/1.0 MB\u001b[0m \u001b[31m58.6 MB/s\u001b[0m eta \u001b[36m0:00:00\u001b[0m\n",
      "\u001b[?25hUsing cached langchain_core-0.3.10-py3-none-any.whl (404 kB)\n",
      "Downloading pydantic_settings-2.5.2-py3-none-any.whl (26 kB)\n",
      "Using cached langchain_text_splitters-0.3.0-py3-none-any.whl (25 kB)\n",
      "Downloading pydantic-2.9.2-py3-none-any.whl (434 kB)\n",
      "Downloading pydantic_core-2.23.4-cp310-cp310-manylinux_2_17_x86_64.manylinux2014_x86_64.whl (2.1 MB)\n",
      "\u001b[2K   \u001b[90m━━━━━━━━━━━━━━━━━━━━━━━━━━━━━━━━━━━━━━━━\u001b[0m \u001b[32m2.1/2.1 MB\u001b[0m \u001b[31m98.2 MB/s\u001b[0m eta \u001b[36m0:00:00\u001b[0m\n",
      "\u001b[?25hInstalling collected packages: pydantic-core, pydantic, pydantic-settings, langchain-core, langchain-text-splitters, langchain, langchain-community\n",
      "  Attempting uninstall: pydantic-core\n",
      "    Found existing installation: pydantic_core 2.18.1\n",
      "    Uninstalling pydantic_core-2.18.1:\n",
      "      Successfully uninstalled pydantic_core-2.18.1\n",
      "  Attempting uninstall: pydantic\n",
      "    Found existing installation: pydantic 2.7.0\n",
      "    Uninstalling pydantic-2.7.0:\n",
      "      Successfully uninstalled pydantic-2.7.0\n",
      "  Attempting uninstall: langchain-core\n",
      "    Found existing installation: langchain-core 0.2.41\n",
      "    Uninstalling langchain-core-0.2.41:\n",
      "      Successfully uninstalled langchain-core-0.2.41\n",
      "  Attempting uninstall: langchain-text-splitters\n",
      "    Found existing installation: langchain-text-splitters 0.2.4\n",
      "    Uninstalling langchain-text-splitters-0.2.4:\n",
      "      Successfully uninstalled langchain-text-splitters-0.2.4\n",
      "  Attempting uninstall: langchain\n",
      "    Found existing installation: langchain 0.2.8\n",
      "    Uninstalling langchain-0.2.8:\n",
      "      Successfully uninstalled langchain-0.2.8\n",
      "  Attempting uninstall: langchain-community\n",
      "    Found existing installation: langchain-community 0.2.7\n",
      "    Uninstalling langchain-community-0.2.7:\n",
      "      Successfully uninstalled langchain-community-0.2.7\n",
      "\u001b[31mERROR: pip's dependency resolver does not currently take into account all the packages that are installed. This behaviour is the source of the following dependency conflicts.\n",
      "langchain-anthropic 0.1.20 requires langchain-core<0.3,>=0.2.17, but you have langchain-core 0.3.10 which is incompatible.\n",
      "langchain-chroma 0.1.2 requires langchain-core<0.3,>=0.1.40, but you have langchain-core 0.3.10 which is incompatible.\n",
      "langchain-cohere 0.1.9 requires langchain-core<0.3,>=0.2.2, but you have langchain-core 0.3.10 which is incompatible.\n",
      "langchain-experimental 0.0.62 requires langchain-community<0.3.0,>=0.2.6, but you have langchain-community 0.3.2 which is incompatible.\n",
      "langchain-experimental 0.0.62 requires langchain-core<0.3.0,>=0.2.10, but you have langchain-core 0.3.10 which is incompatible.\n",
      "langchain-fireworks 0.1.5 requires langchain-core<0.3,>=0.2.17, but you have langchain-core 0.3.10 which is incompatible.\n",
      "langchain-fireworks 0.1.5 requires openai<2.0.0,>=1.10.0, but you have openai 0.28.1 which is incompatible.\n",
      "langchain-openai 0.1.20 requires langchain-core<0.3.0,>=0.2.26, but you have langchain-core 0.3.10 which is incompatible.\n",
      "langchain-openai 0.1.20 requires openai<2.0.0,>=1.32.0, but you have openai 0.28.1 which is incompatible.\n",
      "langgraph 0.1.19 requires langchain-core<0.3,>=0.2.22, but you have langchain-core 0.3.10 which is incompatible.\n",
      "langserve 0.2.2 requires langchain-core<0.3,>=0.1, but you have langchain-core 0.3.10 which is incompatible.\u001b[0m\u001b[31m\n",
      "\u001b[0mSuccessfully installed langchain-0.3.3 langchain-community-0.3.2 langchain-core-0.3.10 langchain-text-splitters-0.3.0 pydantic-2.9.2 pydantic-core-2.23.4 pydantic-settings-2.5.2\n"
     ]
    }
   ],
   "source": [
    "!pip install -U langchain-community"
   ]
  },
  {
   "cell_type": "code",
   "execution_count": 4,
   "id": "bc79b16a-8591-4dfe-9aaa-73a29dded6f1",
   "metadata": {
    "tags": []
   },
   "outputs": [],
   "source": [
    "import os\n",
    "from langchain.text_splitter import RecursiveCharacterTextSplitter\n",
    "from langchain.document_loaders import PyPDFLoader\n",
    "from langchain.prompts import PromptTemplate\n",
    "from langchain.embeddings.bedrock import BedrockEmbeddings\n",
    "from langchain.llms.bedrock import Bedrock\n",
    "from langchain.vectorstores import Chroma\n",
    "from langchain.chains import RetrievalQA\n",
    "from langchain_community.chat_models import BedrockChat\n",
    "import boto3"
   ]
  },
  {
   "cell_type": "markdown",
   "id": "000b903c-1119-4169-b9dc-81ed19189b56",
   "metadata": {},
   "source": [
    "# AWS Bedrock Client Connection with boto3"
   ]
  },
  {
   "cell_type": "code",
   "execution_count": 5,
   "id": "d3d7aebd-c80b-4fc5-9906-60ba452d46ec",
   "metadata": {
    "tags": []
   },
   "outputs": [
    {
     "name": "stdout",
     "output_type": "stream",
     "text": [
      "Requirement already satisfied: termcolor in /home/ec2-user/anaconda3/envs/python3/lib/python3.10/site-packages (2.4.0)\n"
     ]
    }
   ],
   "source": [
    "!pip install termcolor"
   ]
  },
  {
   "cell_type": "code",
   "execution_count": 6,
   "id": "5e63419a-0fbf-473d-a033-3abf08fd0afe",
   "metadata": {
    "tags": []
   },
   "outputs": [
    {
     "name": "stdout",
     "output_type": "stream",
     "text": [
      "Requirement already satisfied: langchain_aws in /home/ec2-user/anaconda3/envs/python3/lib/python3.10/site-packages (0.2.2)\n",
      "Requirement already satisfied: boto3>=1.34.131 in /home/ec2-user/anaconda3/envs/python3/lib/python3.10/site-packages (from langchain_aws) (1.35.39)\n",
      "Requirement already satisfied: langchain-core<0.4,>=0.3.2 in /home/ec2-user/anaconda3/envs/python3/lib/python3.10/site-packages (from langchain_aws) (0.3.10)\n",
      "Requirement already satisfied: numpy<2,>=1 in /home/ec2-user/anaconda3/envs/python3/lib/python3.10/site-packages (from langchain_aws) (1.26.4)\n",
      "Requirement already satisfied: pydantic<3,>=2 in /home/ec2-user/anaconda3/envs/python3/lib/python3.10/site-packages (from langchain_aws) (2.9.2)\n",
      "Requirement already satisfied: botocore<1.36.0,>=1.35.39 in /home/ec2-user/anaconda3/envs/python3/lib/python3.10/site-packages (from boto3>=1.34.131->langchain_aws) (1.35.39)\n",
      "Requirement already satisfied: jmespath<2.0.0,>=0.7.1 in /home/ec2-user/anaconda3/envs/python3/lib/python3.10/site-packages (from boto3>=1.34.131->langchain_aws) (1.0.1)\n",
      "Requirement already satisfied: s3transfer<0.11.0,>=0.10.0 in /home/ec2-user/anaconda3/envs/python3/lib/python3.10/site-packages (from boto3>=1.34.131->langchain_aws) (0.10.1)\n",
      "Requirement already satisfied: PyYAML>=5.3 in /home/ec2-user/anaconda3/envs/python3/lib/python3.10/site-packages (from langchain-core<0.4,>=0.3.2->langchain_aws) (6.0.1)\n",
      "Requirement already satisfied: jsonpatch<2.0,>=1.33 in /home/ec2-user/anaconda3/envs/python3/lib/python3.10/site-packages (from langchain-core<0.4,>=0.3.2->langchain_aws) (1.33)\n",
      "Requirement already satisfied: langsmith<0.2.0,>=0.1.125 in /home/ec2-user/anaconda3/envs/python3/lib/python3.10/site-packages (from langchain-core<0.4,>=0.3.2->langchain_aws) (0.1.134)\n",
      "Requirement already satisfied: packaging<25,>=23.2 in /home/ec2-user/anaconda3/envs/python3/lib/python3.10/site-packages (from langchain-core<0.4,>=0.3.2->langchain_aws) (23.2)\n",
      "Requirement already satisfied: tenacity!=8.4.0,<9.0.0,>=8.1.0 in /home/ec2-user/anaconda3/envs/python3/lib/python3.10/site-packages (from langchain-core<0.4,>=0.3.2->langchain_aws) (8.2.3)\n",
      "Requirement already satisfied: typing-extensions>=4.7 in /home/ec2-user/anaconda3/envs/python3/lib/python3.10/site-packages (from langchain-core<0.4,>=0.3.2->langchain_aws) (4.9.0)\n",
      "Requirement already satisfied: annotated-types>=0.6.0 in /home/ec2-user/anaconda3/envs/python3/lib/python3.10/site-packages (from pydantic<3,>=2->langchain_aws) (0.6.0)\n",
      "Requirement already satisfied: pydantic-core==2.23.4 in /home/ec2-user/anaconda3/envs/python3/lib/python3.10/site-packages (from pydantic<3,>=2->langchain_aws) (2.23.4)\n",
      "Requirement already satisfied: python-dateutil<3.0.0,>=2.1 in /home/ec2-user/anaconda3/envs/python3/lib/python3.10/site-packages (from botocore<1.36.0,>=1.35.39->boto3>=1.34.131->langchain_aws) (2.9.0.post0)\n",
      "Requirement already satisfied: urllib3!=2.2.0,<3,>=1.25.4 in /home/ec2-user/anaconda3/envs/python3/lib/python3.10/site-packages (from botocore<1.36.0,>=1.35.39->boto3>=1.34.131->langchain_aws) (2.2.3)\n",
      "Requirement already satisfied: jsonpointer>=1.9 in /home/ec2-user/anaconda3/envs/python3/lib/python3.10/site-packages (from jsonpatch<2.0,>=1.33->langchain-core<0.4,>=0.3.2->langchain_aws) (2.4)\n",
      "Requirement already satisfied: httpx<1,>=0.23.0 in /home/ec2-user/anaconda3/envs/python3/lib/python3.10/site-packages (from langsmith<0.2.0,>=0.1.125->langchain-core<0.4,>=0.3.2->langchain_aws) (0.27.0)\n",
      "Requirement already satisfied: orjson<4.0.0,>=3.9.14 in /home/ec2-user/anaconda3/envs/python3/lib/python3.10/site-packages (from langsmith<0.2.0,>=0.1.125->langchain-core<0.4,>=0.3.2->langchain_aws) (3.10.1)\n",
      "Requirement already satisfied: requests<3,>=2 in /home/ec2-user/anaconda3/envs/python3/lib/python3.10/site-packages (from langsmith<0.2.0,>=0.1.125->langchain-core<0.4,>=0.3.2->langchain_aws) (2.32.3)\n",
      "Requirement already satisfied: requests-toolbelt<2.0.0,>=1.0.0 in /home/ec2-user/anaconda3/envs/python3/lib/python3.10/site-packages (from langsmith<0.2.0,>=0.1.125->langchain-core<0.4,>=0.3.2->langchain_aws) (1.0.0)\n",
      "Requirement already satisfied: anyio in /home/ec2-user/anaconda3/envs/python3/lib/python3.10/site-packages (from httpx<1,>=0.23.0->langsmith<0.2.0,>=0.1.125->langchain-core<0.4,>=0.3.2->langchain_aws) (4.3.0)\n",
      "Requirement already satisfied: certifi in /home/ec2-user/anaconda3/envs/python3/lib/python3.10/site-packages (from httpx<1,>=0.23.0->langsmith<0.2.0,>=0.1.125->langchain-core<0.4,>=0.3.2->langchain_aws) (2024.6.2)\n",
      "Requirement already satisfied: httpcore==1.* in /home/ec2-user/anaconda3/envs/python3/lib/python3.10/site-packages (from httpx<1,>=0.23.0->langsmith<0.2.0,>=0.1.125->langchain-core<0.4,>=0.3.2->langchain_aws) (1.0.4)\n",
      "Requirement already satisfied: idna in /home/ec2-user/anaconda3/envs/python3/lib/python3.10/site-packages (from httpx<1,>=0.23.0->langsmith<0.2.0,>=0.1.125->langchain-core<0.4,>=0.3.2->langchain_aws) (3.7)\n",
      "Requirement already satisfied: sniffio in /home/ec2-user/anaconda3/envs/python3/lib/python3.10/site-packages (from httpx<1,>=0.23.0->langsmith<0.2.0,>=0.1.125->langchain-core<0.4,>=0.3.2->langchain_aws) (1.3.0)\n",
      "Requirement already satisfied: h11<0.15,>=0.13 in /home/ec2-user/anaconda3/envs/python3/lib/python3.10/site-packages (from httpcore==1.*->httpx<1,>=0.23.0->langsmith<0.2.0,>=0.1.125->langchain-core<0.4,>=0.3.2->langchain_aws) (0.14.0)\n",
      "Requirement already satisfied: six>=1.5 in /home/ec2-user/anaconda3/envs/python3/lib/python3.10/site-packages (from python-dateutil<3.0.0,>=2.1->botocore<1.36.0,>=1.35.39->boto3>=1.34.131->langchain_aws) (1.16.0)\n",
      "Requirement already satisfied: charset-normalizer<4,>=2 in /home/ec2-user/anaconda3/envs/python3/lib/python3.10/site-packages (from requests<3,>=2->langsmith<0.2.0,>=0.1.125->langchain-core<0.4,>=0.3.2->langchain_aws) (3.3.2)\n",
      "Requirement already satisfied: exceptiongroup>=1.0.2 in /home/ec2-user/anaconda3/envs/python3/lib/python3.10/site-packages (from anyio->httpx<1,>=0.23.0->langsmith<0.2.0,>=0.1.125->langchain-core<0.4,>=0.3.2->langchain_aws) (1.2.0)\n"
     ]
    }
   ],
   "source": [
    "!pip install langchain_aws"
   ]
  },
  {
   "cell_type": "code",
   "execution_count": 7,
   "id": "c694eccd-d1fa-42bf-b372-8dbc25083bb3",
   "metadata": {
    "tags": []
   },
   "outputs": [],
   "source": [
    "import json\n",
    "import boto3\n",
    "from pprint import pprint\n",
    "from termcolor import colored\n",
    "\n",
    "bedrock_client = boto3.client(service_name='bedrock-runtime')"
   ]
  },
  {
   "cell_type": "code",
   "execution_count": 8,
   "id": "2d8c38e5-be8f-4960-820e-502ba35ca6b5",
   "metadata": {
    "tags": []
   },
   "outputs": [
    {
     "data": {
      "text/plain": [
       "ChatBedrock(callbacks=[<langchain_core.callbacks.streaming_stdout.StreamingStdOutCallbackHandler object at 0x7fa06b857eb0>], client=<botocore.client.BedrockRuntime object at 0x7fa06b86c640>, model_id='anthropic.claude-3-5-sonnet-20240620-v1:0', model_kwargs={'stop_sequences': ['\\n\\nHuman']}, streaming=True, max_tokens=2048)"
      ]
     },
     "execution_count": 8,
     "metadata": {},
     "output_type": "execute_result"
    }
   ],
   "source": [
    "from langchain_aws import ChatBedrock\n",
    "from langchain.callbacks.streaming_stdout import StreamingStdOutCallbackHandler### LLM 로딩 (Claude-v3-sonnet)\n",
    "\n",
    "from langchain_aws import ChatBedrock\n",
    "from langchain.callbacks.streaming_stdout import StreamingStdOutCallbackHandler\n",
    "\n",
    "llm_text = ChatBedrock(\n",
    "    model_id=\"anthropic.claude-3-5-sonnet-20240620-v1:0\",\n",
    "    client=bedrock_client,\n",
    "    streaming=True,\n",
    "    callbacks=[StreamingStdOutCallbackHandler()],\n",
    "    model_kwargs={\n",
    "        \"max_tokens\": 2048,\n",
    "        \"stop_sequences\": [\"\\n\\nHuman\"],\n",
    "        # \"temperature\": 0,\n",
    "        # \"top_k\": 350,\n",
    "        # \"top_p\": 0.999\n",
    "    }\n",
    ")\n",
    "llm_text"
   ]
  },
  {
   "cell_type": "code",
   "execution_count": 9,
   "id": "29faca0d-abe7-4942-b5fd-f9a4f7685a82",
   "metadata": {
    "tags": []
   },
   "outputs": [
    {
     "name": "stdout",
     "output_type": "stream",
     "text": [
      "Bedrock Embeddings Model Loaded\n"
     ]
    }
   ],
   "source": [
    "from langchain.embeddings import BedrockEmbeddings\n",
    "\n",
    "llm_emb = BedrockEmbeddings(\n",
    "    client=bedrock_client,\n",
    "    model_id=\"Titan-Embeddings-G1\"\n",
    ")\n",
    "dimension = 1536\n",
    "print(\"Bedrock Embeddings Model Loaded\")"
   ]
  },
  {
   "cell_type": "markdown",
   "id": "09d0fa5c-41dc-4125-b8e3-792729e5079b",
   "metadata": {
    "tags": []
   },
   "source": [
    "# PDF Files Loading with PyMuPDF"
   ]
  },
  {
   "cell_type": "code",
   "execution_count": 10,
   "id": "3e6f83aa-5ff9-4aee-bcd3-c6eaaf32e5d1",
   "metadata": {
    "tags": []
   },
   "outputs": [
    {
     "name": "stdout",
     "output_type": "stream",
     "text": [
      "Requirement already satisfied: pymupdf4llm in /home/ec2-user/anaconda3/envs/python3/lib/python3.10/site-packages (0.0.5)\n",
      "Requirement already satisfied: pymupdf>=1.24.2 in /home/ec2-user/anaconda3/envs/python3/lib/python3.10/site-packages (from pymupdf4llm) (1.24.2)\n",
      "Requirement already satisfied: PyMuPDFb==1.24.1 in /home/ec2-user/anaconda3/envs/python3/lib/python3.10/site-packages (from pymupdf>=1.24.2->pymupdf4llm) (1.24.1)\n"
     ]
    }
   ],
   "source": [
    "!pip install pymupdf4llm"
   ]
  },
  {
   "cell_type": "code",
   "execution_count": 11,
   "id": "f32f73de-e95a-458b-9430-19479568742f",
   "metadata": {
    "tags": []
   },
   "outputs": [
    {
     "name": "stdout",
     "output_type": "stream",
     "text": [
      "--2024-10-12 09:20:41--  https://byekang-share-materials.s3.ap-northeast-2.amazonaws.com/file-public-share/Amazon-EC2-UG-Kor-20-30.pdf\n",
      "Resolving byekang-share-materials.s3.ap-northeast-2.amazonaws.com (byekang-share-materials.s3.ap-northeast-2.amazonaws.com)... 52.219.148.62, 3.5.184.213, 3.5.144.243, ...\n",
      "Connecting to byekang-share-materials.s3.ap-northeast-2.amazonaws.com (byekang-share-materials.s3.ap-northeast-2.amazonaws.com)|52.219.148.62|:443... connected.\n",
      "HTTP request sent, awaiting response... 200 OK\n",
      "Length: 236300 (231K) [application/pdf]\n",
      "Saving to: ‘Amazon-EC2-UG-Kor-20-30.pdf’\n",
      "\n",
      "100%[======================================>] 236,300      441KB/s   in 0.5s   \n",
      "\n",
      "2024-10-12 09:20:43 (441 KB/s) - ‘Amazon-EC2-UG-Kor-20-30.pdf’ saved [236300/236300]\n",
      "\n"
     ]
    }
   ],
   "source": [
    "!wget https://byekang-share-materials.s3.ap-northeast-2.amazonaws.com/file-public-share/Amazon-EC2-UG-Kor-20-30.pdf -O Amazon-EC2-UG-Kor-20-30.pdf"
   ]
  },
  {
   "cell_type": "markdown",
   "id": "726c6fe5-ae38-4755-99cf-f7dfe6dafb64",
   "metadata": {
    "tags": []
   },
   "source": [
    "### PDF를 파싱해서 Markdown file로 변환합니다."
   ]
  },
  {
   "cell_type": "code",
   "execution_count": 12,
   "id": "cf7c6fa9-7ac2-4965-8637-36f737977247",
   "metadata": {
    "tags": []
   },
   "outputs": [],
   "source": [
    "import pymupdf4llm\n",
    "md_text = pymupdf4llm.to_markdown(\"Amazon-EC2-UG-Kor-20-30.pdf\")"
   ]
  },
  {
   "cell_type": "markdown",
   "id": "3bac8bba-982b-4d70-9019-888b686b9974",
   "metadata": {
    "tags": []
   },
   "source": [
    "### Markdown file로 잘 변화되었는지를 확인하기 위해서 화면으로 display해 봅니다."
   ]
  },
  {
   "cell_type": "code",
   "execution_count": 13,
   "id": "c9165bc1-565e-487c-a7c2-ab966342c89b",
   "metadata": {
    "tags": []
   },
   "outputs": [
    {
     "data": {
      "text/markdown": [
       "# Amazon EC2란 무엇인가요?\n",
       "\n",
       "Amazon Elastic Compute Cloud(Amazon EC2)는 Amazon Web Services(AWS) 클라우드에서 온디맨\n",
       "드 확장 가능 컴퓨팅 용량을 제공합니다. Amazon EC2를 사용하면 하드웨어 비용이 절감되므로 애플\n",
       "리케이션을 더욱 빠르게 개발하고 배포할 수 있습니다. Amazon EC2를 사용하여 원하는 수의 가상 서\n",
       "버를 구축하고 보안 및 네트워킹을 구성하며 스토리지를 관리할 수 있습니다. 용량을 추가(스케일 업)\n",
       "하여 월간 또는 연간 프로세스 또는 웹 사이트 트래픽 급증 등 컴퓨팅 사용량이 많은 작업을 처리할 수\n",
       "있습니다. 사용량이 감소하면 용량을 다시 축소(스케일 다운)할 수 있습니다.\n",
       "\n",
       "EC2 인스턴스는 AWS 클라우드의 가상 서버입니다. EC2 인스턴스를 시작할 때 지정하는 인스턴스 유\n",
       "형에 따라 인스턴스에 사용할 수 있는 하드웨어가 결정됩니다. 인스턴스 유형마다 서로 다른 컴퓨팅,\n",
       "메모리, 네트워크 및 스토리지 리소스의 균형을 제공합니다. 자세한 내용은 Amazon EC2 인스턴스 유\n",
       "형 안내서 를 참조하세요.\n",
       "\n",
       "## Amazon EC2의 기능\n",
       "\n",
       "Amazon EC2는 다음의 대략적인 기능을 제공합니다.\n",
       "\n",
       "인스턴스\n",
       "\n",
       "가상 서버.\n",
       "\n",
       "Amazon Machine Images (AMIs)\n",
       "\n",
       "서버에 필요한 구성 요소(운영 체제와 추가 소프트웨어 포함)를 패키징하는 인스턴스용 사전 구성\n",
       "템플릿.\n",
       "\n",
       "인스턴스 타입\n",
       "\n",
       "인스턴스의 다양한 CPU, 메모리, 스토리지, 네트워킹 용량 및 그래픽 하드웨어 구성.\n",
       "\n",
       "Amazon EBS 볼륨\n",
       "\n",
       "Amazon Elastic Block Store(Amazon EBS)를 사용하는 데이터에 대한 영구 스토리지 볼륨.\n",
       "\n",
       "특성 1\n",
       "\n",
       "\n",
       "-----\n",
       "\n",
       "인스턴스 스토어 볼륨\n",
       "\n",
       "인스턴스를 중단, 최대 절전 모드로 전환 또는 종료할 때 삭제되는 임시 데이터용 스토리지 볼륨.\n",
       "\n",
       "키 페어\n",
       "\n",
       "인스턴스에 대한 보안 로그인 정보. AWS는 퍼블릭 키를 저장하고 사용자는 프라이빗 키를 안전한\n",
       "장소에 저장합니다.\n",
       "\n",
       "보안 그룹\n",
       "\n",
       "인스턴스에 도달할 수 있는 프로토콜, 포트 및 소스 IP 범위와 인스턴스가 연결할 수 있는 대상 IP\n",
       "범위를 지정할 수 있는 가상 방화벽.\n",
       "\n",
       "Amazon EC2는 전자 상거래 웹사이트 운영자 또는 서비스 공급자에 의한 신용카드 데이터의 처리, 저\n",
       "장 및 전송을 지원하며, 지불 카드(PCI) 보안 표준(DSS)을 준수하는 것으로 검증되었습니다. AWS PCI\n",
       "규정 준수 패키지의 사본을 요청하는 방법 등 PCI DSS에 대해 자세히 알아보려면 PCI DSS 레벨 1 을\n",
       "참조하세요.\n",
       "\n",
       "## 관련 서비스\n",
       "\n",
       "Amazon EC2와 함께 사용할 서비스\n",
       "\n",
       "Amazon EC2를 사용하여 배포한 인스턴스와 함께 다른 AWS 서비스를 사용할 수 있습니다.\n",
       "\n",
       "Amazon EC2 Auto Scaling\n",
       "\n",
       "애플리케이션의 로드를 처리할 수 있는 정확한 수의 Amazon EC2 인스턴스를 유지하는 데 도움이\n",
       "됩니다.\n",
       "\n",
       "AWS Backup\n",
       "\n",
       "Amazon EC2 인스턴스와 여기에 연결된 Amazon EBS 볼륨의 백업을 자동화합니다.\n",
       "\n",
       "Amazon CloudWatch\n",
       "\n",
       "인스턴스와 Amazon EBS 볼륨을 모니터링합니다.\n",
       "\n",
       "Elastic Load Balancing\n",
       "\n",
       "수신되는 애플리케이션 트래픽을 여러 인스턴스로 자동 분산합니다.\n",
       "\n",
       "Amazon GuardDuty\n",
       "\n",
       "EC2 인스턴스에 대한 잠재적 무단 사용 또는 악의적 사용을 탐지합니다.\n",
       "\n",
       "관련 서비스 2\n",
       "\n",
       "\n",
       "-----\n",
       "\n",
       "EC2 Image Builder\n",
       "\n",
       "사용자 지정되어 안전하고 최신 상태인 서버 이미지의 생성, 관리 및 배포를 자동화합니다.\n",
       "\n",
       "AWS Launch Wizard\n",
       "\n",
       "개별 AWS 리소스를 수동으로 식별하고 프로비저닝할 필요 없이 타사 애플리케이션에 대한 AWS\n",
       "리소스를 크기 조정, 구성 및 배포합니다.\n",
       "\n",
       "AWS Systems Manager\n",
       "\n",
       "이 안전한 엔드 투 엔드 관리 솔루션을 사용하여 EC2 인스턴스에서 대규모로 작업을 수행할 수 있\n",
       "습니다.\n",
       "\n",
       "추가 컴퓨팅 서비스\n",
       "\n",
       "Amazon EC2를 사용하는 대신 다른 AWS 컴퓨팅 서비스를 사용하여 인스턴스를 시작할 수 있습니다.\n",
       "\n",
       "Amazon Lightsail\n",
       "\n",
       "저렴하고 예측 가능한 월별 요금으로 프로젝트를 신속하게 배포하는 데 필요한 리소스를 제공하는\n",
       "클라우드 플랫폼인 Amazon Lightsail을 사용하여 웹 사이트 또는 웹 애플리케이션을 구축합니다.\n",
       "Amazon EC2와 Lightsail을 비교하려면 Amazon Lightsail 또는 Amazon EC2 섹션을 참조하세요.\n",
       "\n",
       "Amazon Elastic Container Service(Amazon ECS)\n",
       "\n",
       "EC2 인스턴스 클러스터에서 컨테이너화된 애플리케이션을 배포, 관리하고 규모를 조정합니다. 자\n",
       "세한 내용은 AWS 컨테이너 서비스 선택 을 참조하세요.\n",
       "\n",
       "Amazon Elastic Kubernetes Service(Amazon EKS)\n",
       "\n",
       "AWS에서 Kubernetes 애플리케이션을 실행합니다. 자세한 내용은 AWS 컨테이너 서비스 선택 을\n",
       "참조하세요.\n",
       "\n",
       "## Amazon EC2 액세스\n",
       "\n",
       "다음 인터페이스를 사용하여 Amazon EC2 인스턴스를 생성하고 관리할 수 있습니다.\n",
       "\n",
       "Amazon EC2 콘솔\n",
       "\n",
       "Amazon EC2 인스턴스 및 리소스를 생성하고 관리하는 간단한 웹 인터페이스입니다. AWS 계정\n",
       "에 가입한 고객은 AWS Management Console에 로그인한 후 콘솔 홈페이지에서 EC2를 선택하여\n",
       "Amazon EC2에 액세스할 수 있습니다.\n",
       "\n",
       "EC2 액세스 3\n",
       "\n",
       "\n",
       "-----\n",
       "\n",
       "AWS Command Line Interface\n",
       "\n",
       "명령줄 쉘의 명령을 사용하여 AWS 서비스와 상호 작용할 수 있습니다. Windows, Mac, Linux에서\n",
       "지원됩니다. AWS CLI에 대한 자세한 내용은 AWS Command Line Interface 사용 설명서 를 참조하\n",
       "세요. AWS CLI 명령 참조 에서 Amazon EC2 명령을 찾아볼 수 있습니다.\n",
       "\n",
       "AWS CloudFormation\n",
       "\n",
       "Amazon EC2는 AWS CloudFormation을 사용한 리소스 생성을 지원합니다. AWS 리소스를 설명\n",
       "하는 템플릿(JSON 또는 YAML 형식)을 생성하면 AWS CloudFormation에서 이러한 리소스를 프로\n",
       "비저닝하고 구성합니다. CloudFormation 템플릿을 재사용하여 동일한 리전 및 계정 또는 여러 리\n",
       "전 및 계정에 동일한 리소스를 여러 번 프로비저닝할 수 있습니다. Amazon EC2에서 지원되는 리소\n",
       "스 유형 및 속성에 대한 자세한 내용은 AWS CloudFormation 사용 설명서에서 EC2 리소스 유형 참\n",
       "조 를 참조하세요.\n",
       "\n",
       "AWS SDK\n",
       "\n",
       "HTTP나 HTTPS 요청을 직접 보내는 대신, 각 언어가 제공하는 고유의 API를 사용하여 애플리케이\n",
       "션을 빌드하는 것을 선호하는 개발자를 위해 AWS는, 라이브러리, 샘플 코드, 자습서 및 기타 리소\n",
       "스를 제공합니다. 이러한 라이브러리는 요청 암호화 서명, 요청 재시도, 오류 응답 처리와 같은 작업\n",
       "을 자동화하는 기본 기능을 제공하므로 더 쉽게 시작할 수 있습니다. 자세한 내용은 AWS 에서의 구\n",
       "축을 위한 도구 를 참조하세요.\n",
       "\n",
       "AWS Tools for PowerShell\n",
       "\n",
       "AWS SDK for .NET에서 공개하는 기능을 기반으로 하는 PowerShell 모듈 세트입니다. PowerShell\n",
       "용 도구를 사용하면 PowerShell 명령줄에서 AWS 리소스에 대한 작업을 스크립팅할 수 있습니다.\n",
       "시작하려면 AWS Tools for Windows PowerShell 사용 설명서 를 참조하십시오. Amazon EC2용\n",
       "cmdlet은 AWS Tools for PowerShell cmdlet 참조 에서 찾아볼 수 있습니다.\n",
       "\n",
       "Query API\n",
       "\n",
       "Amazon EC2에서는 쿼리 API를 제공합니다. 이러한 요청은 HTTP나 HTTPS의 메시지 교환 방식인\n",
       "\n",
       "GET이나 POST이며, 미리 정해진 이름인 \" `Action` \"을 쿼리 변수로 사용합니다. Amazon EC2에 관\n",
       "련된 API 작업에 대한 자세한 내용은 Actions (Amazon EC2 API Reference)을 참조하십시오.\n",
       "\n",
       "## Amazon EC2 요금\n",
       "\n",
       "Amazon EC2는 다음과 같은 요금 옵션을 제공합니다.\n",
       "\n",
       "요금 4\n",
       "\n",
       "\n",
       "-----\n",
       "\n",
       "프리 티어\n",
       "\n",
       "Amazon EC2를 무료로 시작할 수 있습니다. 프리 티어 옵션을 살펴보려면 AWS 프리 티어 를 참조\n",
       "하세요.\n",
       "\n",
       "온디맨드 인스턴스\n",
       "\n",
       "장기 약정이나 선결제 없이 초 단위로, 최소 60초 사용한 인스턴스에 대한 요금을 지불하는 방식입\n",
       "니다.\n",
       "\n",
       "절감형 플랜\n",
       "\n",
       "1년 또는 3년 기간 동안 시간당 USD로 일관된 사용량을 약정하여 Amazon EC2 비용을 절감할 수\n",
       "있습니다.\n",
       "\n",
       "예약 인스턴스\n",
       "\n",
       "1년 또는 3년 기간 동안 인스턴스 유형 또는 지역을 포함해 특정 인스턴스 구성을 약정하여\n",
       "Amazon EC2 비용을 절감할 수 있습니다.\n",
       "\n",
       "스팟 인스턴스\n",
       "\n",
       "미사용 EC2 인스턴스를 요청하여 Amazon EC2 비용을 대폭 줄일 수 있습니다.\n",
       "\n",
       "전용 호스트\n",
       "\n",
       "온디맨드 또는 절감형 플랜의 일부로 고객 전용 물리적 EC2 서버를 사용하여 비용을 절감합니다.\n",
       "기존 서버 기반 소프트웨어 라이선스를 사용하면 규정 준수 요구 사항을 충족하는 데 도움을 받을\n",
       "수 있습니다.\n",
       "\n",
       "온디맨드 용량 예약\n",
       "\n",
       "원하는 기간 동안 특정 가용 영역의 EC2 인스턴스에 대해 용량을 예약합니다.\n",
       "\n",
       "초당 청구\n",
       "\n",
       "청구서에서 사용하지 않은 분 및 초 단위의 비용을 제거합니다.\n",
       "\n",
       "Amazon EC2에 관련된 전체적인 요금 및 가격 목록과 구매 모델 관련 추가 정보는 Amazon EC2 요\n",
       "금 을 참조하세요.\n",
       "\n",
       "### 추정, 결제 및 비용 최적화\n",
       "\n",
       "AWS 사용 사례에 대한 예상 비용을 계산하려면 AWS Pricing Calculator 를 사용하세요.\n",
       "\n",
       "추정, 결제 및 비용 최적화 5\n",
       "\n",
       "\n",
       "-----\n",
       "\n",
       "Microsoft 워크로드를 AWS에 배포된 오픈 소스 및 클라우드 네이티브 서비스를 사용하는 최신 아키텍\n",
       "처로 변환하는 데 드는 비용을 추정하려면 AWS Modernization Calculator for Microsoft Workloads 를\n",
       "사용하세요.\n",
       "\n",
       "청구 요금은 AWS Billing and Cost Management 콘솔 의 청구 및 비용 관리 대시보드에서 확인할 수 있\n",
       "습니다. 청구서에는 요금 내역을 자세하게 확인할 수 있는 사용 보고서 링크가 포함됩니다. AWS 계정\n",
       "결제에 대한 자세한 내용은 AWS 결제 및 비용 관리 사용 설명서 를 참조하세요.\n",
       "\n",
       "AWS 결제, 계정 및 이벤트에 관련된 질문은 AWS Support에 문의 하세요.\n",
       "\n",
       "샘플 프로비저닝된 환경의 비용을 계산하려면 클라우드 경제 센터 를 참조하세요. 프로비저닝된 환경\n",
       "의 비용을 계산할 때 EBS 볼륨에 대한 스냅샷 스토리지와 같은 부수적인 비용을 포함해야 합니다.\n",
       "\n",
       "AWS Trusted Advisor 사용을 통해 AWS 환경의 비용, 보안 및 성능을 최적화할 수 있습니다.\n",
       "\n",
       "AWS Cost Explorer를 사용하면 EC2 인스턴스의 비용과 사용량을 분석할 수 있습니다. 지난 13개월까\n",
       "지의 데이터를 볼 수 있고 향후 12개월 동안의 지출을 예상할 수 있습니다. 자세한 내용은 AWS Cost\n",
       "Management 사용 설명서의 AWS Cost Explorer를 사용한 비용 분석 을 참조하세요.\n",
       "\n",
       "## 리소스\n",
       "\n",
       "-  Amazon EC2의 기능\n",
       "\n",
       "-  AWS re:Post\n",
       "\n",
       "-  AWS Skill Builder\n",
       "\n",
       "-  AWS Support\n",
       "\n",
       "-  실습 자습서\n",
       "\n",
       "-  웹 호스팅\n",
       "\n",
       "-  AWS 기반 Windows\n",
       "\n",
       "리소스 6\n",
       "\n",
       "\n",
       "-----\n",
       "\n"
      ],
      "text/plain": [
       "<IPython.core.display.Markdown object>"
      ]
     },
     "metadata": {},
     "output_type": "display_data"
    }
   ],
   "source": [
    "from IPython.display import Markdown, display\n",
    "\n",
    "display(Markdown(md_text))"
   ]
  },
  {
   "cell_type": "markdown",
   "id": "d47272a1-4ec7-48eb-83c4-d9b0d37d6bb9",
   "metadata": {},
   "source": [
    "# MarkDown 파일을 목차별로 split합니다."
   ]
  },
  {
   "cell_type": "markdown",
   "id": "103fb670-034f-4c3f-97d5-a5ef669663d0",
   "metadata": {},
   "source": [
    "https://python.langchain.com/docs/how_to/markdown_header_metadata_splitter/"
   ]
  },
  {
   "cell_type": "code",
   "execution_count": 14,
   "id": "200fd73a-e167-4008-90f2-be148e32db0e",
   "metadata": {
    "tags": []
   },
   "outputs": [],
   "source": [
    "from langchain_text_splitters import MarkdownHeaderTextSplitter"
   ]
  },
  {
   "cell_type": "code",
   "execution_count": 15,
   "id": "34a74e62-2cf0-4369-b541-6750507b115e",
   "metadata": {
    "tags": []
   },
   "outputs": [],
   "source": [
    "headers_to_split_on = [\n",
    "    (\"#\", \"Header 1\"),\n",
    "    (\"##\", \"Header 2\"),\n",
    "    (\"###\", \"Header 3\"),\n",
    "]"
   ]
  },
  {
   "cell_type": "code",
   "execution_count": 16,
   "id": "838650ea-0d7a-4bbc-bc68-85d82f61f063",
   "metadata": {
    "tags": []
   },
   "outputs": [],
   "source": [
    "markdown_splitter = MarkdownHeaderTextSplitter(headers_to_split_on)\n",
    "md_header_splits = markdown_splitter.split_text(md_text)"
   ]
  },
  {
   "cell_type": "code",
   "execution_count": 17,
   "id": "0339b3cc-f2f1-4224-bfb2-5a4a16613775",
   "metadata": {
    "tags": []
   },
   "outputs": [
    {
     "data": {
      "text/plain": [
       "[Document(metadata={'Header 1': 'Amazon EC2란 무엇인가요?'}, page_content='Amazon Elastic Compute Cloud(Amazon EC2)는 Amazon Web Services(AWS) 클라우드에서 온디맨\\n드 확장 가능 컴퓨팅 용량을 제공합니다. Amazon EC2를 사용하면 하드웨어 비용이 절감되므로 애플\\n리케이션을 더욱 빠르게 개발하고 배포할 수 있습니다. Amazon EC2를 사용하여 원하는 수의 가상 서\\n버를 구축하고 보안 및 네트워킹을 구성하며 스토리지를 관리할 수 있습니다. 용량을 추가(스케일 업)\\n하여 월간 또는 연간 프로세스 또는 웹 사이트 트래픽 급증 등 컴퓨팅 사용량이 많은 작업을 처리할 수\\n있습니다. 사용량이 감소하면 용량을 다시 축소(스케일 다운)할 수 있습니다.  \\nEC2 인스턴스는 AWS 클라우드의 가상 서버입니다. EC2 인스턴스를 시작할 때 지정하는 인스턴스 유\\n형에 따라 인스턴스에 사용할 수 있는 하드웨어가 결정됩니다. 인스턴스 유형마다 서로 다른 컴퓨팅,\\n메모리, 네트워크 및 스토리지 리소스의 균형을 제공합니다. 자세한 내용은 Amazon EC2 인스턴스 유\\n형 안내서 를 참조하세요.'),\n",
       " Document(metadata={'Header 1': 'Amazon EC2란 무엇인가요?', 'Header 2': 'Amazon EC2의 기능'}, page_content='Amazon EC2는 다음의 대략적인 기능을 제공합니다.  \\n인스턴스  \\n가상 서버.  \\nAmazon Machine Images (AMIs)  \\n서버에 필요한 구성 요소(운영 체제와 추가 소프트웨어 포함)를 패키징하는 인스턴스용 사전 구성\\n템플릿.  \\n인스턴스 타입  \\n인스턴스의 다양한 CPU, 메모리, 스토리지, 네트워킹 용량 및 그래픽 하드웨어 구성.  \\nAmazon EBS 볼륨  \\nAmazon Elastic Block Store(Amazon EBS)를 사용하는 데이터에 대한 영구 스토리지 볼륨.  \\n특성 1  \\n-----  \\n인스턴스 스토어 볼륨  \\n인스턴스를 중단, 최대 절전 모드로 전환 또는 종료할 때 삭제되는 임시 데이터용 스토리지 볼륨.  \\n키 페어  \\n인스턴스에 대한 보안 로그인 정보. AWS는 퍼블릭 키를 저장하고 사용자는 프라이빗 키를 안전한\\n장소에 저장합니다.  \\n보안 그룹  \\n인스턴스에 도달할 수 있는 프로토콜, 포트 및 소스 IP 범위와 인스턴스가 연결할 수 있는 대상 IP\\n범위를 지정할 수 있는 가상 방화벽.  \\nAmazon EC2는 전자 상거래 웹사이트 운영자 또는 서비스 공급자에 의한 신용카드 데이터의 처리, 저\\n장 및 전송을 지원하며, 지불 카드(PCI) 보안 표준(DSS)을 준수하는 것으로 검증되었습니다. AWS PCI\\n규정 준수 패키지의 사본을 요청하는 방법 등 PCI DSS에 대해 자세히 알아보려면 PCI DSS 레벨 1 을\\n참조하세요.'),\n",
       " Document(metadata={'Header 1': 'Amazon EC2란 무엇인가요?', 'Header 2': '관련 서비스'}, page_content='Amazon EC2와 함께 사용할 서비스  \\nAmazon EC2를 사용하여 배포한 인스턴스와 함께 다른 AWS 서비스를 사용할 수 있습니다.  \\nAmazon EC2 Auto Scaling  \\n애플리케이션의 로드를 처리할 수 있는 정확한 수의 Amazon EC2 인스턴스를 유지하는 데 도움이\\n됩니다.  \\nAWS Backup  \\nAmazon EC2 인스턴스와 여기에 연결된 Amazon EBS 볼륨의 백업을 자동화합니다.  \\nAmazon CloudWatch  \\n인스턴스와 Amazon EBS 볼륨을 모니터링합니다.  \\nElastic Load Balancing  \\n수신되는 애플리케이션 트래픽을 여러 인스턴스로 자동 분산합니다.  \\nAmazon GuardDuty  \\nEC2 인스턴스에 대한 잠재적 무단 사용 또는 악의적 사용을 탐지합니다.  \\n관련 서비스 2  \\n-----  \\nEC2 Image Builder  \\n사용자 지정되어 안전하고 최신 상태인 서버 이미지의 생성, 관리 및 배포를 자동화합니다.  \\nAWS Launch Wizard  \\n개별 AWS 리소스를 수동으로 식별하고 프로비저닝할 필요 없이 타사 애플리케이션에 대한 AWS\\n리소스를 크기 조정, 구성 및 배포합니다.  \\nAWS Systems Manager  \\n이 안전한 엔드 투 엔드 관리 솔루션을 사용하여 EC2 인스턴스에서 대규모로 작업을 수행할 수 있\\n습니다.  \\n추가 컴퓨팅 서비스  \\nAmazon EC2를 사용하는 대신 다른 AWS 컴퓨팅 서비스를 사용하여 인스턴스를 시작할 수 있습니다.  \\nAmazon Lightsail  \\n저렴하고 예측 가능한 월별 요금으로 프로젝트를 신속하게 배포하는 데 필요한 리소스를 제공하는\\n클라우드 플랫폼인 Amazon Lightsail을 사용하여 웹 사이트 또는 웹 애플리케이션을 구축합니다.\\nAmazon EC2와 Lightsail을 비교하려면 Amazon Lightsail 또는 Amazon EC2 섹션을 참조하세요.  \\nAmazon Elastic Container Service(Amazon ECS)  \\nEC2 인스턴스 클러스터에서 컨테이너화된 애플리케이션을 배포, 관리하고 규모를 조정합니다. 자\\n세한 내용은 AWS 컨테이너 서비스 선택 을 참조하세요.  \\nAmazon Elastic Kubernetes Service(Amazon EKS)  \\nAWS에서 Kubernetes 애플리케이션을 실행합니다. 자세한 내용은 AWS 컨테이너 서비스 선택 을\\n참조하세요.'),\n",
       " Document(metadata={'Header 1': 'Amazon EC2란 무엇인가요?', 'Header 2': 'Amazon EC2 액세스'}, page_content='다음 인터페이스를 사용하여 Amazon EC2 인스턴스를 생성하고 관리할 수 있습니다.  \\nAmazon EC2 콘솔  \\nAmazon EC2 인스턴스 및 리소스를 생성하고 관리하는 간단한 웹 인터페이스입니다. AWS 계정\\n에 가입한 고객은 AWS Management Console에 로그인한 후 콘솔 홈페이지에서 EC2를 선택하여\\nAmazon EC2에 액세스할 수 있습니다.  \\nEC2 액세스 3  \\n-----  \\nAWS Command Line Interface  \\n명령줄 쉘의 명령을 사용하여 AWS 서비스와 상호 작용할 수 있습니다. Windows, Mac, Linux에서\\n지원됩니다. AWS CLI에 대한 자세한 내용은 AWS Command Line Interface 사용 설명서 를 참조하\\n세요. AWS CLI 명령 참조 에서 Amazon EC2 명령을 찾아볼 수 있습니다.  \\nAWS CloudFormation  \\nAmazon EC2는 AWS CloudFormation을 사용한 리소스 생성을 지원합니다. AWS 리소스를 설명\\n하는 템플릿(JSON 또는 YAML 형식)을 생성하면 AWS CloudFormation에서 이러한 리소스를 프로\\n비저닝하고 구성합니다. CloudFormation 템플릿을 재사용하여 동일한 리전 및 계정 또는 여러 리\\n전 및 계정에 동일한 리소스를 여러 번 프로비저닝할 수 있습니다. Amazon EC2에서 지원되는 리소\\n스 유형 및 속성에 대한 자세한 내용은 AWS CloudFormation 사용 설명서에서 EC2 리소스 유형 참\\n조 를 참조하세요.  \\nAWS SDK  \\nHTTP나 HTTPS 요청을 직접 보내는 대신, 각 언어가 제공하는 고유의 API를 사용하여 애플리케이\\n션을 빌드하는 것을 선호하는 개발자를 위해 AWS는, 라이브러리, 샘플 코드, 자습서 및 기타 리소\\n스를 제공합니다. 이러한 라이브러리는 요청 암호화 서명, 요청 재시도, 오류 응답 처리와 같은 작업\\n을 자동화하는 기본 기능을 제공하므로 더 쉽게 시작할 수 있습니다. 자세한 내용은 AWS 에서의 구\\n축을 위한 도구 를 참조하세요.  \\nAWS Tools for PowerShell  \\nAWS SDK for .NET에서 공개하는 기능을 기반으로 하는 PowerShell 모듈 세트입니다. PowerShell\\n용 도구를 사용하면 PowerShell 명령줄에서 AWS 리소스에 대한 작업을 스크립팅할 수 있습니다.\\n시작하려면 AWS Tools for Windows PowerShell 사용 설명서 를 참조하십시오. Amazon EC2용\\ncmdlet은 AWS Tools for PowerShell cmdlet 참조 에서 찾아볼 수 있습니다.  \\nQuery API  \\nAmazon EC2에서는 쿼리 API를 제공합니다. 이러한 요청은 HTTP나 HTTPS의 메시지 교환 방식인  \\nGET이나 POST이며, 미리 정해진 이름인 \" `Action` \"을 쿼리 변수로 사용합니다. Amazon EC2에 관\\n련된 API 작업에 대한 자세한 내용은 Actions (Amazon EC2 API Reference)을 참조하십시오.'),\n",
       " Document(metadata={'Header 1': 'Amazon EC2란 무엇인가요?', 'Header 2': 'Amazon EC2 요금'}, page_content='Amazon EC2는 다음과 같은 요금 옵션을 제공합니다.  \\n요금 4  \\n-----  \\n프리 티어  \\nAmazon EC2를 무료로 시작할 수 있습니다. 프리 티어 옵션을 살펴보려면 AWS 프리 티어 를 참조\\n하세요.  \\n온디맨드 인스턴스  \\n장기 약정이나 선결제 없이 초 단위로, 최소 60초 사용한 인스턴스에 대한 요금을 지불하는 방식입\\n니다.  \\n절감형 플랜  \\n1년 또는 3년 기간 동안 시간당 USD로 일관된 사용량을 약정하여 Amazon EC2 비용을 절감할 수\\n있습니다.  \\n예약 인스턴스  \\n1년 또는 3년 기간 동안 인스턴스 유형 또는 지역을 포함해 특정 인스턴스 구성을 약정하여\\nAmazon EC2 비용을 절감할 수 있습니다.  \\n스팟 인스턴스  \\n미사용 EC2 인스턴스를 요청하여 Amazon EC2 비용을 대폭 줄일 수 있습니다.  \\n전용 호스트  \\n온디맨드 또는 절감형 플랜의 일부로 고객 전용 물리적 EC2 서버를 사용하여 비용을 절감합니다.\\n기존 서버 기반 소프트웨어 라이선스를 사용하면 규정 준수 요구 사항을 충족하는 데 도움을 받을\\n수 있습니다.  \\n온디맨드 용량 예약  \\n원하는 기간 동안 특정 가용 영역의 EC2 인스턴스에 대해 용량을 예약합니다.  \\n초당 청구  \\n청구서에서 사용하지 않은 분 및 초 단위의 비용을 제거합니다.  \\nAmazon EC2에 관련된 전체적인 요금 및 가격 목록과 구매 모델 관련 추가 정보는 Amazon EC2 요\\n금 을 참조하세요.'),\n",
       " Document(metadata={'Header 1': 'Amazon EC2란 무엇인가요?', 'Header 2': 'Amazon EC2 요금', 'Header 3': '추정, 결제 및 비용 최적화'}, page_content='AWS 사용 사례에 대한 예상 비용을 계산하려면 AWS Pricing Calculator 를 사용하세요.  \\n추정, 결제 및 비용 최적화 5  \\n-----  \\nMicrosoft 워크로드를 AWS에 배포된 오픈 소스 및 클라우드 네이티브 서비스를 사용하는 최신 아키텍\\n처로 변환하는 데 드는 비용을 추정하려면 AWS Modernization Calculator for Microsoft Workloads 를\\n사용하세요.  \\n청구 요금은 AWS Billing and Cost Management 콘솔 의 청구 및 비용 관리 대시보드에서 확인할 수 있\\n습니다. 청구서에는 요금 내역을 자세하게 확인할 수 있는 사용 보고서 링크가 포함됩니다. AWS 계정\\n결제에 대한 자세한 내용은 AWS 결제 및 비용 관리 사용 설명서 를 참조하세요.  \\nAWS 결제, 계정 및 이벤트에 관련된 질문은 AWS Support에 문의 하세요.  \\n샘플 프로비저닝된 환경의 비용을 계산하려면 클라우드 경제 센터 를 참조하세요. 프로비저닝된 환경\\n의 비용을 계산할 때 EBS 볼륨에 대한 스냅샷 스토리지와 같은 부수적인 비용을 포함해야 합니다.  \\nAWS Trusted Advisor 사용을 통해 AWS 환경의 비용, 보안 및 성능을 최적화할 수 있습니다.  \\nAWS Cost Explorer를 사용하면 EC2 인스턴스의 비용과 사용량을 분석할 수 있습니다. 지난 13개월까\\n지의 데이터를 볼 수 있고 향후 12개월 동안의 지출을 예상할 수 있습니다. 자세한 내용은 AWS Cost\\nManagement 사용 설명서의 AWS Cost Explorer를 사용한 비용 분석 을 참조하세요.'),\n",
       " Document(metadata={'Header 1': 'Amazon EC2란 무엇인가요?', 'Header 2': '리소스'}, page_content='-  Amazon EC2의 기능  \\n-  AWS re:Post  \\n-  AWS Skill Builder  \\n-  AWS Support  \\n-  실습 자습서  \\n-  웹 호스팅  \\n-  AWS 기반 Windows  \\n리소스 6  \\n-----')]"
      ]
     },
     "execution_count": 17,
     "metadata": {},
     "output_type": "execute_result"
    }
   ],
   "source": [
    "md_header_splits"
   ]
  },
  {
   "cell_type": "markdown",
   "id": "6ca30ab8-49da-4819-903d-357ec3f367d0",
   "metadata": {},
   "source": [
    "### 몇개의 docuement로 split되었는지 출력해 봅니다."
   ]
  },
  {
   "cell_type": "code",
   "execution_count": 18,
   "id": "5d41e58b-ae91-48c4-b321-04113b801461",
   "metadata": {
    "tags": []
   },
   "outputs": [
    {
     "name": "stdout",
     "output_type": "stream",
     "text": [
      "[Header Doc Index] 0 ------------------------\n",
      "  Header 1:  Amazon EC2란 무엇인가요?\n",
      "      [Doc page_content]: Amazon Elastic Compute Cloud(Amazon EC2)는 Amazon Web Services(AWS) 클라우드에서 온디맨\n",
      "드 확장 가능 컴퓨팅 용량을 제공합니다. Amazon EC2를 사용하면 하드웨어 비용이 절감되므로 애플\n",
      "리케이션을 더욱 빠르게 개발하고 배포할 수 있습니다. Amazon EC2를 사용하여 원하는 수의 가상 서\n",
      "버를 구축하고 보안 및 네트워킹을 구성하며 스토리지를 관리할 수 있습니다. 용량을 추가(스케일 업)\n",
      "하여 월간 또는 연간 프로세스 또는 웹 사이트 트래픽 급증 등 컴퓨팅 사용량이 많은 작업을 처리할 수\n",
      "있습니다. 사용량이 감소하면 용량을 다시 축소(스케일 다운)할 수 있습니다.  \n",
      "EC2 인스턴스는 AWS 클라우드의 가상 서버입니다. EC2 인스턴스를 시작할 때 지정하는 인스턴스 유\n",
      "형에 따라 인스턴스에 사용할 수 있는 하드웨어가 결정됩니다. 인스턴스 유형마다 서로 다른 컴퓨팅,\n",
      "메모리, 네트워크 및 스토리지 리소스의 균형을 제공합니다. 자세한 내용은 Amazon EC2 인스턴스 유\n",
      "형 안내서 를 참조하세요.\n",
      "\n",
      "\n",
      "[Header Doc Index] 1 ------------------------\n",
      "  Header 1:  Amazon EC2란 무엇인가요?\n",
      "    Header 2:  Amazon EC2의 기능\n",
      "      [Doc page_content]: Amazon EC2는 다음의 대략적인 기능을 제공합니다.  \n",
      "인스턴스  \n",
      "가상 서버.  \n",
      "Amazon Machine Images (AMIs)  \n",
      "서버에 필요한 구성 요소(운영 체제와 추가 소프트웨어 포함)를 패키징하는 인스턴스용 사전 구성\n",
      "템플릿.  \n",
      "인스턴스 타입  \n",
      "인스턴스의 다양한 CPU, 메모리, 스토리지, 네트워킹 용량 및 그래픽 하드웨어 구성.  \n",
      "Amazon EBS 볼륨  \n",
      "Amazon Elastic Block Store(Amazon EBS)를 사용하는 데이터에 대한 영구 스토리지 볼륨.  \n",
      "특성 1  \n",
      "-----  \n",
      "인스턴스 스토어 볼륨  \n",
      "인스턴스를 중단, 최대 절전 모드로 전환 또는 종료할 때 삭제되는 임시 데이터용 스토리지 볼륨.  \n",
      "키 페어  \n",
      "인스턴스에 대한 보안 로그인 정보. AWS는 퍼블릭 키를 저장하고 사용자는 프라이빗 키를 안전한\n",
      "장소에 저장합니다.  \n",
      "보안 그룹  \n",
      "인스턴스에 도달할 수 있는 프로토콜, 포트 및 소스 IP 범위와 인스턴스가 연결할 수 있는 대상 IP\n",
      "범위를 지정할 수 있는 가상 방화벽.  \n",
      "Amazon EC2는 전자 상거래 웹사이트 운영자 또는 서비스 공급자에 의한 신용카드 데이터의 처리, 저\n",
      "장 및 전송을 지원하며, 지불 카드(PCI) 보안 표준(DSS)을 준수하는 것으로 검증되었습니다. AWS PCI\n",
      "규정 준수 패키지의 사본을 요청하는 방법 등 PCI DSS에 대해 자세히 알아보려면 PCI DSS 레벨 1 을\n",
      "참조하세요.\n",
      "\n",
      "\n",
      "[Header Doc Index] 2 ------------------------\n",
      "  Header 1:  Amazon EC2란 무엇인가요?\n",
      "    Header 2:  관련 서비스\n",
      "      [Doc page_content]: Amazon EC2와 함께 사용할 서비스  \n",
      "Amazon EC2를 사용하여 배포한 인스턴스와 함께 다른 AWS 서비스를 사용할 수 있습니다.  \n",
      "Amazon EC2 Auto Scaling  \n",
      "애플리케이션의 로드를 처리할 수 있는 정확한 수의 Amazon EC2 인스턴스를 유지하는 데 도움이\n",
      "됩니다.  \n",
      "AWS Backup  \n",
      "Amazon EC2 인스턴스와 여기에 연결된 Amazon EBS 볼륨의 백업을 자동화합니다.  \n",
      "Amazon CloudWatch  \n",
      "인스턴스와 Amazon EBS 볼륨을 모니터링합니다.  \n",
      "Elastic Load Balancing  \n",
      "수신되는 애플리케이션 트래픽을 여러 인스턴스로 자동 분산합니다.  \n",
      "Amazon GuardDuty  \n",
      "EC2 인스턴스에 대한 잠재적 무단 사용 또는 악의적 사용을 탐지합니다.  \n",
      "관련 서비스 2  \n",
      "-----  \n",
      "EC2 Image Builder  \n",
      "사용자 지정되어 안전하고 최신 상태인 서버 이미지의 생성, 관리 및 배포를 자동화합니다.  \n",
      "AWS Launch Wizard  \n",
      "개별 AWS 리소스를 수동으로 식별하고 프로비저닝할 필요 없이 타사 애플리케이션에 대한 AWS\n",
      "리소스를 크기 조정, 구성 및 배포합니다.  \n",
      "AWS Systems Manager  \n",
      "이 안전한 엔드 투 엔드 관리 솔루션을 사용하여 EC2 인스턴스에서 대규모로 작업을 수행할 수 있\n",
      "습니다.  \n",
      "추가 컴퓨팅 서비스  \n",
      "Amazon EC2를 사용하는 대신 다른 AWS 컴퓨팅 서비스를 사용하여 인스턴스를 시작할 수 있습니다.  \n",
      "Amazon Lightsail  \n",
      "저렴하고 예측 가능한 월별 요금으로 프로젝트를 신속하게 배포하는 데 필요한 리소스를 제공하는\n",
      "클라우드 플랫폼인 Amazon Lightsail을 사용하여 웹 사이트 또는 웹 애플리케이션을 구축합니다.\n",
      "Amazon EC2와 Lightsail을 비교하려면 Amazon Lightsail 또는 Amazon EC2 섹션을 참조하세요.  \n",
      "Amazon Elastic Container Service(Amazon ECS)  \n",
      "EC2 인스턴스 클러스터에서 컨테이너화된 애플리케이션을 배포, 관리하고 규모를 조정합니다. 자\n",
      "세한 내용은 AWS 컨테이너 서비스 선택 을 참조하세요.  \n",
      "Amazon Elastic Kubernetes Service(Amazon EKS)  \n",
      "AWS에서 Kubernetes 애플리케이션을 실행합니다. 자세한 내용은 AWS 컨테이너 서비스 선택 을\n",
      "참조하세요.\n",
      "\n",
      "\n",
      "[Header Doc Index] 3 ------------------------\n",
      "  Header 1:  Amazon EC2란 무엇인가요?\n",
      "    Header 2:  Amazon EC2 액세스\n",
      "      [Doc page_content]: 다음 인터페이스를 사용하여 Amazon EC2 인스턴스를 생성하고 관리할 수 있습니다.  \n",
      "Amazon EC2 콘솔  \n",
      "Amazon EC2 인스턴스 및 리소스를 생성하고 관리하는 간단한 웹 인터페이스입니다. AWS 계정\n",
      "에 가입한 고객은 AWS Management Console에 로그인한 후 콘솔 홈페이지에서 EC2를 선택하여\n",
      "Amazon EC2에 액세스할 수 있습니다.  \n",
      "EC2 액세스 3  \n",
      "-----  \n",
      "AWS Command Line Interface  \n",
      "명령줄 쉘의 명령을 사용하여 AWS 서비스와 상호 작용할 수 있습니다. Windows, Mac, Linux에서\n",
      "지원됩니다. AWS CLI에 대한 자세한 내용은 AWS Command Line Interface 사용 설명서 를 참조하\n",
      "세요. AWS CLI 명령 참조 에서 Amazon EC2 명령을 찾아볼 수 있습니다.  \n",
      "AWS CloudFormation  \n",
      "Amazon EC2는 AWS CloudFormation을 사용한 리소스 생성을 지원합니다. AWS 리소스를 설명\n",
      "하는 템플릿(JSON 또는 YAML 형식)을 생성하면 AWS CloudFormation에서 이러한 리소스를 프로\n",
      "비저닝하고 구성합니다. CloudFormation 템플릿을 재사용하여 동일한 리전 및 계정 또는 여러 리\n",
      "전 및 계정에 동일한 리소스를 여러 번 프로비저닝할 수 있습니다. Amazon EC2에서 지원되는 리소\n",
      "스 유형 및 속성에 대한 자세한 내용은 AWS CloudFormation 사용 설명서에서 EC2 리소스 유형 참\n",
      "조 를 참조하세요.  \n",
      "AWS SDK  \n",
      "HTTP나 HTTPS 요청을 직접 보내는 대신, 각 언어가 제공하는 고유의 API를 사용하여 애플리케이\n",
      "션을 빌드하는 것을 선호하는 개발자를 위해 AWS는, 라이브러리, 샘플 코드, 자습서 및 기타 리소\n",
      "스를 제공합니다. 이러한 라이브러리는 요청 암호화 서명, 요청 재시도, 오류 응답 처리와 같은 작업\n",
      "을 자동화하는 기본 기능을 제공하므로 더 쉽게 시작할 수 있습니다. 자세한 내용은 AWS 에서의 구\n",
      "축을 위한 도구 를 참조하세요.  \n",
      "AWS Tools for PowerShell  \n",
      "AWS SDK for .NET에서 공개하는 기능을 기반으로 하는 PowerShell 모듈 세트입니다. PowerShell\n",
      "용 도구를 사용하면 PowerShell 명령줄에서 AWS 리소스에 대한 작업을 스크립팅할 수 있습니다.\n",
      "시작하려면 AWS Tools for Windows PowerShell 사용 설명서 를 참조하십시오. Amazon EC2용\n",
      "cmdlet은 AWS Tools for PowerShell cmdlet 참조 에서 찾아볼 수 있습니다.  \n",
      "Query API  \n",
      "Amazon EC2에서는 쿼리 API를 제공합니다. 이러한 요청은 HTTP나 HTTPS의 메시지 교환 방식인  \n",
      "GET이나 POST이며, 미리 정해진 이름인 \" `Action` \"을 쿼리 변수로 사용합니다. Amazon EC2에 관\n",
      "련된 API 작업에 대한 자세한 내용은 Actions (Amazon EC2 API Reference)을 참조하십시오.\n",
      "\n",
      "\n",
      "[Header Doc Index] 4 ------------------------\n",
      "  Header 1:  Amazon EC2란 무엇인가요?\n",
      "    Header 2:  Amazon EC2 요금\n",
      "      [Doc page_content]: Amazon EC2는 다음과 같은 요금 옵션을 제공합니다.  \n",
      "요금 4  \n",
      "-----  \n",
      "프리 티어  \n",
      "Amazon EC2를 무료로 시작할 수 있습니다. 프리 티어 옵션을 살펴보려면 AWS 프리 티어 를 참조\n",
      "하세요.  \n",
      "온디맨드 인스턴스  \n",
      "장기 약정이나 선결제 없이 초 단위로, 최소 60초 사용한 인스턴스에 대한 요금을 지불하는 방식입\n",
      "니다.  \n",
      "절감형 플랜  \n",
      "1년 또는 3년 기간 동안 시간당 USD로 일관된 사용량을 약정하여 Amazon EC2 비용을 절감할 수\n",
      "있습니다.  \n",
      "예약 인스턴스  \n",
      "1년 또는 3년 기간 동안 인스턴스 유형 또는 지역을 포함해 특정 인스턴스 구성을 약정하여\n",
      "Amazon EC2 비용을 절감할 수 있습니다.  \n",
      "스팟 인스턴스  \n",
      "미사용 EC2 인스턴스를 요청하여 Amazon EC2 비용을 대폭 줄일 수 있습니다.  \n",
      "전용 호스트  \n",
      "온디맨드 또는 절감형 플랜의 일부로 고객 전용 물리적 EC2 서버를 사용하여 비용을 절감합니다.\n",
      "기존 서버 기반 소프트웨어 라이선스를 사용하면 규정 준수 요구 사항을 충족하는 데 도움을 받을\n",
      "수 있습니다.  \n",
      "온디맨드 용량 예약  \n",
      "원하는 기간 동안 특정 가용 영역의 EC2 인스턴스에 대해 용량을 예약합니다.  \n",
      "초당 청구  \n",
      "청구서에서 사용하지 않은 분 및 초 단위의 비용을 제거합니다.  \n",
      "Amazon EC2에 관련된 전체적인 요금 및 가격 목록과 구매 모델 관련 추가 정보는 Amazon EC2 요\n",
      "금 을 참조하세요.\n",
      "\n",
      "\n",
      "[Header Doc Index] 5 ------------------------\n",
      "  Header 1:  Amazon EC2란 무엇인가요?\n",
      "    Header 2:  Amazon EC2 요금\n",
      "      [Doc page_content]: AWS 사용 사례에 대한 예상 비용을 계산하려면 AWS Pricing Calculator 를 사용하세요.  \n",
      "추정, 결제 및 비용 최적화 5  \n",
      "-----  \n",
      "Microsoft 워크로드를 AWS에 배포된 오픈 소스 및 클라우드 네이티브 서비스를 사용하는 최신 아키텍\n",
      "처로 변환하는 데 드는 비용을 추정하려면 AWS Modernization Calculator for Microsoft Workloads 를\n",
      "사용하세요.  \n",
      "청구 요금은 AWS Billing and Cost Management 콘솔 의 청구 및 비용 관리 대시보드에서 확인할 수 있\n",
      "습니다. 청구서에는 요금 내역을 자세하게 확인할 수 있는 사용 보고서 링크가 포함됩니다. AWS 계정\n",
      "결제에 대한 자세한 내용은 AWS 결제 및 비용 관리 사용 설명서 를 참조하세요.  \n",
      "AWS 결제, 계정 및 이벤트에 관련된 질문은 AWS Support에 문의 하세요.  \n",
      "샘플 프로비저닝된 환경의 비용을 계산하려면 클라우드 경제 센터 를 참조하세요. 프로비저닝된 환경\n",
      "의 비용을 계산할 때 EBS 볼륨에 대한 스냅샷 스토리지와 같은 부수적인 비용을 포함해야 합니다.  \n",
      "AWS Trusted Advisor 사용을 통해 AWS 환경의 비용, 보안 및 성능을 최적화할 수 있습니다.  \n",
      "AWS Cost Explorer를 사용하면 EC2 인스턴스의 비용과 사용량을 분석할 수 있습니다. 지난 13개월까\n",
      "지의 데이터를 볼 수 있고 향후 12개월 동안의 지출을 예상할 수 있습니다. 자세한 내용은 AWS Cost\n",
      "Management 사용 설명서의 AWS Cost Explorer를 사용한 비용 분석 을 참조하세요.\n",
      "\n",
      "\n",
      "[Header Doc Index] 6 ------------------------\n",
      "  Header 1:  Amazon EC2란 무엇인가요?\n",
      "    Header 2:  리소스\n",
      "      [Doc page_content]: -  Amazon EC2의 기능  \n",
      "-  AWS re:Post  \n",
      "-  AWS Skill Builder  \n",
      "-  AWS Support  \n",
      "-  실습 자습서  \n",
      "-  웹 호스팅  \n",
      "-  AWS 기반 Windows  \n",
      "리소스 6  \n",
      "-----\n",
      "\n",
      "\n"
     ]
    }
   ],
   "source": [
    "for index, doc in enumerate(md_header_splits):\n",
    "    print(\"[Header Doc Index]\", index, \"------------------------\")\n",
    "    print(\"  Header 1: \", doc.metadata['Header 1'])\n",
    "    \n",
    "    if 'Header 2' in doc.metadata :\n",
    "        print(\"    Header 2: \", doc.metadata['Header 2'])\n",
    "    \n",
    "    print(\"      [Doc page_content]:\", doc.page_content)\n",
    "    print(\"\")\n",
    "    print(\"\")"
   ]
  },
  {
   "cell_type": "markdown",
   "id": "47e9a060-def6-484f-93e3-09d52cb7a166",
   "metadata": {},
   "source": [
    "# Child Chunk 생성\n",
    "### RecursiveCharacterTextSplitter를 이용해서 RAG로 사용할 수 있도록 child chunk로 생성합니다."
   ]
  },
  {
   "cell_type": "code",
   "execution_count": 19,
   "id": "8c2f32cf-dc64-4050-81bc-463bbf8160c0",
   "metadata": {
    "tags": []
   },
   "outputs": [],
   "source": [
    "# Char-level splits\n",
    "from langchain_text_splitters import RecursiveCharacterTextSplitter\n",
    "\n",
    "chunk_size = 250\n",
    "chunk_overlap = 30\n",
    "text_splitter = RecursiveCharacterTextSplitter(\n",
    "    chunk_size=chunk_size, chunk_overlap=chunk_overlap\n",
    ")"
   ]
  },
  {
   "cell_type": "code",
   "execution_count": 20,
   "id": "01396ad8-c81f-4917-87db-7526c83b4aef",
   "metadata": {
    "tags": []
   },
   "outputs": [],
   "source": [
    "# Split\n",
    "splits = text_splitter.split_documents(md_header_splits)"
   ]
  },
  {
   "cell_type": "code",
   "execution_count": 21,
   "id": "838ac216-3275-4799-b1d2-80da91419703",
   "metadata": {
    "tags": []
   },
   "outputs": [],
   "source": [
    "### 몇개의 청크로 생성되었는지 출력해 봅니다."
   ]
  },
  {
   "cell_type": "code",
   "execution_count": 22,
   "id": "9c71c1ea-9c48-4d93-a9f2-f4dab7bf62a7",
   "metadata": {
    "tags": []
   },
   "outputs": [
    {
     "name": "stdout",
     "output_type": "stream",
     "text": [
      "[Header Doc Index] 0 ------------------------\n",
      "  Header 1:  Amazon EC2란 무엇인가요?\n",
      "      [Doc page_content]: Amazon Elastic Compute Cloud(Amazon EC2)는 Amazon Web Services(AWS) 클라우드에서 온디맨\n",
      "드 확장 가능 컴퓨팅 용량을 제공합니다. Amazon EC2를 사용하면 하드웨어 비용이 절감되므로 애플\n",
      "리케이션을 더욱 빠르게 개발하고 배포할 수 있습니다. Amazon EC2를 사용하여 원하는 수의 가상 서\n",
      "버를 구축하고 보안 및 네트워킹을 구성하며 스토리지를 관리할 수 있습니다. 용량을 추가(스케일 업)\n",
      "\n",
      "\n",
      "[Header Doc Index] 1 ------------------------\n",
      "  Header 1:  Amazon EC2란 무엇인가요?\n",
      "      [Doc page_content]: 하여 월간 또는 연간 프로세스 또는 웹 사이트 트래픽 급증 등 컴퓨팅 사용량이 많은 작업을 처리할 수\n",
      "있습니다. 사용량이 감소하면 용량을 다시 축소(스케일 다운)할 수 있습니다.  \n",
      "EC2 인스턴스는 AWS 클라우드의 가상 서버입니다. EC2 인스턴스를 시작할 때 지정하는 인스턴스 유\n",
      "형에 따라 인스턴스에 사용할 수 있는 하드웨어가 결정됩니다. 인스턴스 유형마다 서로 다른 컴퓨팅,\n",
      "\n",
      "\n",
      "[Header Doc Index] 2 ------------------------\n",
      "  Header 1:  Amazon EC2란 무엇인가요?\n",
      "      [Doc page_content]: 메모리, 네트워크 및 스토리지 리소스의 균형을 제공합니다. 자세한 내용은 Amazon EC2 인스턴스 유\n",
      "형 안내서 를 참조하세요.\n",
      "\n",
      "\n",
      "[Header Doc Index] 3 ------------------------\n",
      "  Header 1:  Amazon EC2란 무엇인가요?\n",
      "    Header 2:  Amazon EC2의 기능\n",
      "      [Doc page_content]: Amazon EC2는 다음의 대략적인 기능을 제공합니다.  \n",
      "인스턴스  \n",
      "가상 서버.  \n",
      "Amazon Machine Images (AMIs)  \n",
      "서버에 필요한 구성 요소(운영 체제와 추가 소프트웨어 포함)를 패키징하는 인스턴스용 사전 구성\n",
      "템플릿.  \n",
      "인스턴스 타입  \n",
      "인스턴스의 다양한 CPU, 메모리, 스토리지, 네트워킹 용량 및 그래픽 하드웨어 구성.  \n",
      "Amazon EBS 볼륨\n",
      "\n",
      "\n",
      "[Header Doc Index] 4 ------------------------\n",
      "  Header 1:  Amazon EC2란 무엇인가요?\n",
      "    Header 2:  Amazon EC2의 기능\n",
      "      [Doc page_content]: Amazon EBS 볼륨  \n",
      "Amazon Elastic Block Store(Amazon EBS)를 사용하는 데이터에 대한 영구 스토리지 볼륨.  \n",
      "특성 1  \n",
      "-----  \n",
      "인스턴스 스토어 볼륨  \n",
      "인스턴스를 중단, 최대 절전 모드로 전환 또는 종료할 때 삭제되는 임시 데이터용 스토리지 볼륨.  \n",
      "키 페어  \n",
      "인스턴스에 대한 보안 로그인 정보. AWS는 퍼블릭 키를 저장하고 사용자는 프라이빗 키를 안전한\n",
      "장소에 저장합니다.  \n",
      "보안 그룹\n",
      "\n",
      "\n",
      "[Header Doc Index] 5 ------------------------\n",
      "  Header 1:  Amazon EC2란 무엇인가요?\n",
      "    Header 2:  Amazon EC2의 기능\n",
      "      [Doc page_content]: 장소에 저장합니다.  \n",
      "보안 그룹  \n",
      "인스턴스에 도달할 수 있는 프로토콜, 포트 및 소스 IP 범위와 인스턴스가 연결할 수 있는 대상 IP\n",
      "범위를 지정할 수 있는 가상 방화벽.  \n",
      "Amazon EC2는 전자 상거래 웹사이트 운영자 또는 서비스 공급자에 의한 신용카드 데이터의 처리, 저\n",
      "장 및 전송을 지원하며, 지불 카드(PCI) 보안 표준(DSS)을 준수하는 것으로 검증되었습니다. AWS PCI\n",
      "\n",
      "\n",
      "[Header Doc Index] 6 ------------------------\n",
      "  Header 1:  Amazon EC2란 무엇인가요?\n",
      "    Header 2:  Amazon EC2의 기능\n",
      "      [Doc page_content]: 규정 준수 패키지의 사본을 요청하는 방법 등 PCI DSS에 대해 자세히 알아보려면 PCI DSS 레벨 1 을\n",
      "참조하세요.\n",
      "\n",
      "\n",
      "[Header Doc Index] 7 ------------------------\n",
      "  Header 1:  Amazon EC2란 무엇인가요?\n",
      "    Header 2:  관련 서비스\n",
      "      [Doc page_content]: Amazon EC2와 함께 사용할 서비스  \n",
      "Amazon EC2를 사용하여 배포한 인스턴스와 함께 다른 AWS 서비스를 사용할 수 있습니다.  \n",
      "Amazon EC2 Auto Scaling  \n",
      "애플리케이션의 로드를 처리할 수 있는 정확한 수의 Amazon EC2 인스턴스를 유지하는 데 도움이\n",
      "됩니다.  \n",
      "AWS Backup  \n",
      "Amazon EC2 인스턴스와 여기에 연결된 Amazon EBS 볼륨의 백업을 자동화합니다.\n",
      "\n",
      "\n",
      "[Header Doc Index] 8 ------------------------\n",
      "  Header 1:  Amazon EC2란 무엇인가요?\n",
      "    Header 2:  관련 서비스\n",
      "      [Doc page_content]: Amazon CloudWatch  \n",
      "인스턴스와 Amazon EBS 볼륨을 모니터링합니다.  \n",
      "Elastic Load Balancing  \n",
      "수신되는 애플리케이션 트래픽을 여러 인스턴스로 자동 분산합니다.  \n",
      "Amazon GuardDuty  \n",
      "EC2 인스턴스에 대한 잠재적 무단 사용 또는 악의적 사용을 탐지합니다.  \n",
      "관련 서비스 2  \n",
      "-----  \n",
      "EC2 Image Builder\n",
      "\n",
      "\n",
      "[Header Doc Index] 9 ------------------------\n",
      "  Header 1:  Amazon EC2란 무엇인가요?\n",
      "    Header 2:  관련 서비스\n",
      "      [Doc page_content]: -----  \n",
      "EC2 Image Builder  \n",
      "사용자 지정되어 안전하고 최신 상태인 서버 이미지의 생성, 관리 및 배포를 자동화합니다.  \n",
      "AWS Launch Wizard  \n",
      "개별 AWS 리소스를 수동으로 식별하고 프로비저닝할 필요 없이 타사 애플리케이션에 대한 AWS\n",
      "리소스를 크기 조정, 구성 및 배포합니다.  \n",
      "AWS Systems Manager\n",
      "\n",
      "\n",
      "[Header Doc Index] 10 ------------------------\n",
      "  Header 1:  Amazon EC2란 무엇인가요?\n",
      "    Header 2:  관련 서비스\n",
      "      [Doc page_content]: AWS Systems Manager  \n",
      "이 안전한 엔드 투 엔드 관리 솔루션을 사용하여 EC2 인스턴스에서 대규모로 작업을 수행할 수 있\n",
      "습니다.  \n",
      "추가 컴퓨팅 서비스  \n",
      "Amazon EC2를 사용하는 대신 다른 AWS 컴퓨팅 서비스를 사용하여 인스턴스를 시작할 수 있습니다.  \n",
      "Amazon Lightsail  \n",
      "저렴하고 예측 가능한 월별 요금으로 프로젝트를 신속하게 배포하는 데 필요한 리소스를 제공하는\n",
      "\n",
      "\n",
      "[Header Doc Index] 11 ------------------------\n",
      "  Header 1:  Amazon EC2란 무엇인가요?\n",
      "    Header 2:  관련 서비스\n",
      "      [Doc page_content]: 클라우드 플랫폼인 Amazon Lightsail을 사용하여 웹 사이트 또는 웹 애플리케이션을 구축합니다.\n",
      "Amazon EC2와 Lightsail을 비교하려면 Amazon Lightsail 또는 Amazon EC2 섹션을 참조하세요.  \n",
      "Amazon Elastic Container Service(Amazon ECS)  \n",
      "EC2 인스턴스 클러스터에서 컨테이너화된 애플리케이션을 배포, 관리하고 규모를 조정합니다. 자\n",
      "\n",
      "\n",
      "[Header Doc Index] 12 ------------------------\n",
      "  Header 1:  Amazon EC2란 무엇인가요?\n",
      "    Header 2:  관련 서비스\n",
      "      [Doc page_content]: 세한 내용은 AWS 컨테이너 서비스 선택 을 참조하세요.  \n",
      "Amazon Elastic Kubernetes Service(Amazon EKS)  \n",
      "AWS에서 Kubernetes 애플리케이션을 실행합니다. 자세한 내용은 AWS 컨테이너 서비스 선택 을\n",
      "참조하세요.\n",
      "\n",
      "\n",
      "[Header Doc Index] 13 ------------------------\n",
      "  Header 1:  Amazon EC2란 무엇인가요?\n",
      "    Header 2:  Amazon EC2 액세스\n",
      "      [Doc page_content]: 다음 인터페이스를 사용하여 Amazon EC2 인스턴스를 생성하고 관리할 수 있습니다.  \n",
      "Amazon EC2 콘솔  \n",
      "Amazon EC2 인스턴스 및 리소스를 생성하고 관리하는 간단한 웹 인터페이스입니다. AWS 계정\n",
      "에 가입한 고객은 AWS Management Console에 로그인한 후 콘솔 홈페이지에서 EC2를 선택하여\n",
      "Amazon EC2에 액세스할 수 있습니다.  \n",
      "EC2 액세스 3  \n",
      "-----\n",
      "\n",
      "\n",
      "[Header Doc Index] 14 ------------------------\n",
      "  Header 1:  Amazon EC2란 무엇인가요?\n",
      "    Header 2:  Amazon EC2 액세스\n",
      "      [Doc page_content]: EC2 액세스 3  \n",
      "-----  \n",
      "AWS Command Line Interface  \n",
      "명령줄 쉘의 명령을 사용하여 AWS 서비스와 상호 작용할 수 있습니다. Windows, Mac, Linux에서\n",
      "지원됩니다. AWS CLI에 대한 자세한 내용은 AWS Command Line Interface 사용 설명서 를 참조하\n",
      "세요. AWS CLI 명령 참조 에서 Amazon EC2 명령을 찾아볼 수 있습니다.  \n",
      "AWS CloudFormation\n",
      "\n",
      "\n",
      "[Header Doc Index] 15 ------------------------\n",
      "  Header 1:  Amazon EC2란 무엇인가요?\n",
      "    Header 2:  Amazon EC2 액세스\n",
      "      [Doc page_content]: AWS CloudFormation  \n",
      "Amazon EC2는 AWS CloudFormation을 사용한 리소스 생성을 지원합니다. AWS 리소스를 설명\n",
      "하는 템플릿(JSON 또는 YAML 형식)을 생성하면 AWS CloudFormation에서 이러한 리소스를 프로\n",
      "비저닝하고 구성합니다. CloudFormation 템플릿을 재사용하여 동일한 리전 및 계정 또는 여러 리\n",
      "\n",
      "\n",
      "[Header Doc Index] 16 ------------------------\n",
      "  Header 1:  Amazon EC2란 무엇인가요?\n",
      "    Header 2:  Amazon EC2 액세스\n",
      "      [Doc page_content]: 전 및 계정에 동일한 리소스를 여러 번 프로비저닝할 수 있습니다. Amazon EC2에서 지원되는 리소\n",
      "스 유형 및 속성에 대한 자세한 내용은 AWS CloudFormation 사용 설명서에서 EC2 리소스 유형 참\n",
      "조 를 참조하세요.  \n",
      "AWS SDK  \n",
      "HTTP나 HTTPS 요청을 직접 보내는 대신, 각 언어가 제공하는 고유의 API를 사용하여 애플리케이\n",
      "\n",
      "\n",
      "[Header Doc Index] 17 ------------------------\n",
      "  Header 1:  Amazon EC2란 무엇인가요?\n",
      "    Header 2:  Amazon EC2 액세스\n",
      "      [Doc page_content]: 션을 빌드하는 것을 선호하는 개발자를 위해 AWS는, 라이브러리, 샘플 코드, 자습서 및 기타 리소\n",
      "스를 제공합니다. 이러한 라이브러리는 요청 암호화 서명, 요청 재시도, 오류 응답 처리와 같은 작업\n",
      "을 자동화하는 기본 기능을 제공하므로 더 쉽게 시작할 수 있습니다. 자세한 내용은 AWS 에서의 구\n",
      "축을 위한 도구 를 참조하세요.  \n",
      "AWS Tools for PowerShell\n",
      "\n",
      "\n",
      "[Header Doc Index] 18 ------------------------\n",
      "  Header 1:  Amazon EC2란 무엇인가요?\n",
      "    Header 2:  Amazon EC2 액세스\n",
      "      [Doc page_content]: AWS Tools for PowerShell  \n",
      "AWS SDK for .NET에서 공개하는 기능을 기반으로 하는 PowerShell 모듈 세트입니다. PowerShell\n",
      "용 도구를 사용하면 PowerShell 명령줄에서 AWS 리소스에 대한 작업을 스크립팅할 수 있습니다.\n",
      "시작하려면 AWS Tools for Windows PowerShell 사용 설명서 를 참조하십시오. Amazon EC2용\n",
      "\n",
      "\n",
      "[Header Doc Index] 19 ------------------------\n",
      "  Header 1:  Amazon EC2란 무엇인가요?\n",
      "    Header 2:  Amazon EC2 액세스\n",
      "      [Doc page_content]: cmdlet은 AWS Tools for PowerShell cmdlet 참조 에서 찾아볼 수 있습니다.  \n",
      "Query API  \n",
      "Amazon EC2에서는 쿼리 API를 제공합니다. 이러한 요청은 HTTP나 HTTPS의 메시지 교환 방식인  \n",
      "GET이나 POST이며, 미리 정해진 이름인 \" `Action` \"을 쿼리 변수로 사용합니다. Amazon EC2에 관\n",
      "\n",
      "\n",
      "[Header Doc Index] 20 ------------------------\n",
      "  Header 1:  Amazon EC2란 무엇인가요?\n",
      "    Header 2:  Amazon EC2 액세스\n",
      "      [Doc page_content]: 련된 API 작업에 대한 자세한 내용은 Actions (Amazon EC2 API Reference)을 참조하십시오.\n",
      "\n",
      "\n",
      "[Header Doc Index] 21 ------------------------\n",
      "  Header 1:  Amazon EC2란 무엇인가요?\n",
      "    Header 2:  Amazon EC2 요금\n",
      "      [Doc page_content]: Amazon EC2는 다음과 같은 요금 옵션을 제공합니다.  \n",
      "요금 4  \n",
      "-----  \n",
      "프리 티어  \n",
      "Amazon EC2를 무료로 시작할 수 있습니다. 프리 티어 옵션을 살펴보려면 AWS 프리 티어 를 참조\n",
      "하세요.  \n",
      "온디맨드 인스턴스  \n",
      "장기 약정이나 선결제 없이 초 단위로, 최소 60초 사용한 인스턴스에 대한 요금을 지불하는 방식입\n",
      "니다.  \n",
      "절감형 플랜\n",
      "\n",
      "\n",
      "[Header Doc Index] 22 ------------------------\n",
      "  Header 1:  Amazon EC2란 무엇인가요?\n",
      "    Header 2:  Amazon EC2 요금\n",
      "      [Doc page_content]: 니다.  \n",
      "절감형 플랜  \n",
      "1년 또는 3년 기간 동안 시간당 USD로 일관된 사용량을 약정하여 Amazon EC2 비용을 절감할 수\n",
      "있습니다.  \n",
      "예약 인스턴스  \n",
      "1년 또는 3년 기간 동안 인스턴스 유형 또는 지역을 포함해 특정 인스턴스 구성을 약정하여\n",
      "Amazon EC2 비용을 절감할 수 있습니다.  \n",
      "스팟 인스턴스  \n",
      "미사용 EC2 인스턴스를 요청하여 Amazon EC2 비용을 대폭 줄일 수 있습니다.  \n",
      "전용 호스트\n",
      "\n",
      "\n",
      "[Header Doc Index] 23 ------------------------\n",
      "  Header 1:  Amazon EC2란 무엇인가요?\n",
      "    Header 2:  Amazon EC2 요금\n",
      "      [Doc page_content]: 전용 호스트  \n",
      "온디맨드 또는 절감형 플랜의 일부로 고객 전용 물리적 EC2 서버를 사용하여 비용을 절감합니다.\n",
      "기존 서버 기반 소프트웨어 라이선스를 사용하면 규정 준수 요구 사항을 충족하는 데 도움을 받을\n",
      "수 있습니다.  \n",
      "온디맨드 용량 예약  \n",
      "원하는 기간 동안 특정 가용 영역의 EC2 인스턴스에 대해 용량을 예약합니다.  \n",
      "초당 청구  \n",
      "청구서에서 사용하지 않은 분 및 초 단위의 비용을 제거합니다.\n",
      "\n",
      "\n",
      "[Header Doc Index] 24 ------------------------\n",
      "  Header 1:  Amazon EC2란 무엇인가요?\n",
      "    Header 2:  Amazon EC2 요금\n",
      "      [Doc page_content]: Amazon EC2에 관련된 전체적인 요금 및 가격 목록과 구매 모델 관련 추가 정보는 Amazon EC2 요\n",
      "금 을 참조하세요.\n",
      "\n",
      "\n",
      "[Header Doc Index] 25 ------------------------\n",
      "  Header 1:  Amazon EC2란 무엇인가요?\n",
      "    Header 2:  Amazon EC2 요금\n",
      "      [Doc page_content]: AWS 사용 사례에 대한 예상 비용을 계산하려면 AWS Pricing Calculator 를 사용하세요.  \n",
      "추정, 결제 및 비용 최적화 5  \n",
      "-----  \n",
      "Microsoft 워크로드를 AWS에 배포된 오픈 소스 및 클라우드 네이티브 서비스를 사용하는 최신 아키텍\n",
      "처로 변환하는 데 드는 비용을 추정하려면 AWS Modernization Calculator for Microsoft Workloads 를\n",
      "사용하세요.\n",
      "\n",
      "\n",
      "[Header Doc Index] 26 ------------------------\n",
      "  Header 1:  Amazon EC2란 무엇인가요?\n",
      "    Header 2:  Amazon EC2 요금\n",
      "      [Doc page_content]: 사용하세요.  \n",
      "청구 요금은 AWS Billing and Cost Management 콘솔 의 청구 및 비용 관리 대시보드에서 확인할 수 있\n",
      "습니다. 청구서에는 요금 내역을 자세하게 확인할 수 있는 사용 보고서 링크가 포함됩니다. AWS 계정\n",
      "결제에 대한 자세한 내용은 AWS 결제 및 비용 관리 사용 설명서 를 참조하세요.  \n",
      "AWS 결제, 계정 및 이벤트에 관련된 질문은 AWS Support에 문의 하세요.\n",
      "\n",
      "\n",
      "[Header Doc Index] 27 ------------------------\n",
      "  Header 1:  Amazon EC2란 무엇인가요?\n",
      "    Header 2:  Amazon EC2 요금\n",
      "      [Doc page_content]: 샘플 프로비저닝된 환경의 비용을 계산하려면 클라우드 경제 센터 를 참조하세요. 프로비저닝된 환경\n",
      "의 비용을 계산할 때 EBS 볼륨에 대한 스냅샷 스토리지와 같은 부수적인 비용을 포함해야 합니다.  \n",
      "AWS Trusted Advisor 사용을 통해 AWS 환경의 비용, 보안 및 성능을 최적화할 수 있습니다.  \n",
      "AWS Cost Explorer를 사용하면 EC2 인스턴스의 비용과 사용량을 분석할 수 있습니다. 지난 13개월까\n",
      "\n",
      "\n",
      "[Header Doc Index] 28 ------------------------\n",
      "  Header 1:  Amazon EC2란 무엇인가요?\n",
      "    Header 2:  Amazon EC2 요금\n",
      "      [Doc page_content]: 지의 데이터를 볼 수 있고 향후 12개월 동안의 지출을 예상할 수 있습니다. 자세한 내용은 AWS Cost\n",
      "Management 사용 설명서의 AWS Cost Explorer를 사용한 비용 분석 을 참조하세요.\n",
      "\n",
      "\n",
      "[Header Doc Index] 29 ------------------------\n",
      "  Header 1:  Amazon EC2란 무엇인가요?\n",
      "    Header 2:  리소스\n",
      "      [Doc page_content]: -  Amazon EC2의 기능  \n",
      "-  AWS re:Post  \n",
      "-  AWS Skill Builder  \n",
      "-  AWS Support  \n",
      "-  실습 자습서  \n",
      "-  웹 호스팅  \n",
      "-  AWS 기반 Windows  \n",
      "리소스 6  \n",
      "-----\n",
      "\n",
      "\n"
     ]
    }
   ],
   "source": [
    "for index, doc in enumerate(splits):\n",
    "    print(\"[Header Doc Index]\", index, \"------------------------\")\n",
    "    print(\"  Header 1: \", doc.metadata['Header 1'])\n",
    "    \n",
    "    if 'Header 2' in doc.metadata :\n",
    "        print(\"    Header 2: \", doc.metadata['Header 2'])\n",
    "    \n",
    "    print(\"      [Doc page_content]:\", doc.page_content)\n",
    "    print(\"\")\n",
    "    print(\"\")"
   ]
  },
  {
   "cell_type": "markdown",
   "id": "c8ef77e4-6144-4bd0-b8bc-897e665e2aeb",
   "metadata": {},
   "source": [
    "# VectorDB 로 임베딩해서 저장"
   ]
  },
  {
   "cell_type": "markdown",
   "id": "1417221f-9e9c-46a2-a6a7-3660bcdbd716",
   "metadata": {},
   "source": [
    "### 위에서 생성한 child chunk를 embedding해서 Chroma vector store에 저장"
   ]
  },
  {
   "cell_type": "code",
   "execution_count": 23,
   "id": "c0a90bf1-ece8-498c-8475-f2ee418f69e4",
   "metadata": {
    "tags": []
   },
   "outputs": [
    {
     "name": "stdout",
     "output_type": "stream",
     "text": [
      "Requirement already satisfied: chromadb in /home/ec2-user/anaconda3/envs/python3/lib/python3.10/site-packages (0.5.4)\n",
      "Requirement already satisfied: build>=1.0.3 in /home/ec2-user/anaconda3/envs/python3/lib/python3.10/site-packages (from chromadb) (1.2.1)\n",
      "Requirement already satisfied: pydantic>=1.9 in /home/ec2-user/anaconda3/envs/python3/lib/python3.10/site-packages (from chromadb) (2.9.2)\n",
      "Requirement already satisfied: chroma-hnswlib==0.7.5 in /home/ec2-user/anaconda3/envs/python3/lib/python3.10/site-packages (from chromadb) (0.7.5)\n",
      "Requirement already satisfied: fastapi>=0.95.2 in /home/ec2-user/anaconda3/envs/python3/lib/python3.10/site-packages (from chromadb) (0.110.3)\n",
      "Requirement already satisfied: uvicorn>=0.18.3 in /home/ec2-user/anaconda3/envs/python3/lib/python3.10/site-packages (from uvicorn[standard]>=0.18.3->chromadb) (0.23.2)\n",
      "Requirement already satisfied: numpy<2.0.0,>=1.22.5 in /home/ec2-user/anaconda3/envs/python3/lib/python3.10/site-packages (from chromadb) (1.26.4)\n",
      "Requirement already satisfied: posthog>=2.4.0 in /home/ec2-user/anaconda3/envs/python3/lib/python3.10/site-packages (from chromadb) (3.5.0)\n",
      "Requirement already satisfied: typing-extensions>=4.5.0 in /home/ec2-user/anaconda3/envs/python3/lib/python3.10/site-packages (from chromadb) (4.9.0)\n",
      "Requirement already satisfied: onnxruntime>=1.14.1 in /home/ec2-user/anaconda3/envs/python3/lib/python3.10/site-packages (from chromadb) (1.15.1)\n",
      "Requirement already satisfied: opentelemetry-api>=1.2.0 in /home/ec2-user/anaconda3/envs/python3/lib/python3.10/site-packages (from chromadb) (1.25.0)\n",
      "Requirement already satisfied: opentelemetry-exporter-otlp-proto-grpc>=1.2.0 in /home/ec2-user/anaconda3/envs/python3/lib/python3.10/site-packages (from chromadb) (1.25.0)\n",
      "Requirement already satisfied: opentelemetry-instrumentation-fastapi>=0.41b0 in /home/ec2-user/anaconda3/envs/python3/lib/python3.10/site-packages (from chromadb) (0.46b0)\n",
      "Requirement already satisfied: opentelemetry-sdk>=1.2.0 in /home/ec2-user/anaconda3/envs/python3/lib/python3.10/site-packages (from chromadb) (1.25.0)\n",
      "Requirement already satisfied: tokenizers>=0.13.2 in /home/ec2-user/anaconda3/envs/python3/lib/python3.10/site-packages (from chromadb) (0.20.0)\n",
      "Requirement already satisfied: pypika>=0.48.9 in /home/ec2-user/anaconda3/envs/python3/lib/python3.10/site-packages (from chromadb) (0.48.9)\n",
      "Requirement already satisfied: tqdm>=4.65.0 in /home/ec2-user/anaconda3/envs/python3/lib/python3.10/site-packages (from chromadb) (4.66.4)\n",
      "Requirement already satisfied: overrides>=7.3.1 in /home/ec2-user/anaconda3/envs/python3/lib/python3.10/site-packages (from chromadb) (7.7.0)\n",
      "Requirement already satisfied: importlib-resources in /home/ec2-user/anaconda3/envs/python3/lib/python3.10/site-packages (from chromadb) (6.1.1)\n",
      "Requirement already satisfied: grpcio>=1.58.0 in /home/ec2-user/anaconda3/envs/python3/lib/python3.10/site-packages (from chromadb) (1.64.1)\n",
      "Requirement already satisfied: bcrypt>=4.0.1 in /home/ec2-user/anaconda3/envs/python3/lib/python3.10/site-packages (from chromadb) (4.1.3)\n",
      "Requirement already satisfied: typer>=0.9.0 in /home/ec2-user/anaconda3/envs/python3/lib/python3.10/site-packages (from chromadb) (0.9.4)\n",
      "Requirement already satisfied: kubernetes>=28.1.0 in /home/ec2-user/anaconda3/envs/python3/lib/python3.10/site-packages (from chromadb) (30.1.0)\n",
      "Requirement already satisfied: tenacity>=8.2.3 in /home/ec2-user/anaconda3/envs/python3/lib/python3.10/site-packages (from chromadb) (8.2.3)\n",
      "Requirement already satisfied: PyYAML>=6.0.0 in /home/ec2-user/anaconda3/envs/python3/lib/python3.10/site-packages (from chromadb) (6.0.1)\n",
      "Requirement already satisfied: mmh3>=4.0.1 in /home/ec2-user/anaconda3/envs/python3/lib/python3.10/site-packages (from chromadb) (4.1.0)\n",
      "Requirement already satisfied: orjson>=3.9.12 in /home/ec2-user/anaconda3/envs/python3/lib/python3.10/site-packages (from chromadb) (3.10.1)\n",
      "Requirement already satisfied: httpx>=0.27.0 in /home/ec2-user/anaconda3/envs/python3/lib/python3.10/site-packages (from chromadb) (0.27.0)\n",
      "Requirement already satisfied: packaging>=19.1 in /home/ec2-user/anaconda3/envs/python3/lib/python3.10/site-packages (from build>=1.0.3->chromadb) (23.2)\n",
      "Requirement already satisfied: pyproject_hooks in /home/ec2-user/anaconda3/envs/python3/lib/python3.10/site-packages (from build>=1.0.3->chromadb) (1.1.0)\n",
      "Requirement already satisfied: tomli>=1.1.0 in /home/ec2-user/anaconda3/envs/python3/lib/python3.10/site-packages (from build>=1.0.3->chromadb) (2.0.1)\n",
      "Requirement already satisfied: starlette<0.38.0,>=0.37.2 in /home/ec2-user/anaconda3/envs/python3/lib/python3.10/site-packages (from fastapi>=0.95.2->chromadb) (0.37.2)\n",
      "Requirement already satisfied: anyio in /home/ec2-user/anaconda3/envs/python3/lib/python3.10/site-packages (from httpx>=0.27.0->chromadb) (4.3.0)\n",
      "Requirement already satisfied: certifi in /home/ec2-user/anaconda3/envs/python3/lib/python3.10/site-packages (from httpx>=0.27.0->chromadb) (2024.6.2)\n",
      "Requirement already satisfied: httpcore==1.* in /home/ec2-user/anaconda3/envs/python3/lib/python3.10/site-packages (from httpx>=0.27.0->chromadb) (1.0.4)\n",
      "Requirement already satisfied: idna in /home/ec2-user/anaconda3/envs/python3/lib/python3.10/site-packages (from httpx>=0.27.0->chromadb) (3.7)\n",
      "Requirement already satisfied: sniffio in /home/ec2-user/anaconda3/envs/python3/lib/python3.10/site-packages (from httpx>=0.27.0->chromadb) (1.3.0)\n",
      "Requirement already satisfied: h11<0.15,>=0.13 in /home/ec2-user/anaconda3/envs/python3/lib/python3.10/site-packages (from httpcore==1.*->httpx>=0.27.0->chromadb) (0.14.0)\n",
      "Requirement already satisfied: six>=1.9.0 in /home/ec2-user/anaconda3/envs/python3/lib/python3.10/site-packages (from kubernetes>=28.1.0->chromadb) (1.16.0)\n",
      "Requirement already satisfied: python-dateutil>=2.5.3 in /home/ec2-user/anaconda3/envs/python3/lib/python3.10/site-packages (from kubernetes>=28.1.0->chromadb) (2.9.0.post0)\n",
      "Requirement already satisfied: google-auth>=1.0.1 in /home/ec2-user/anaconda3/envs/python3/lib/python3.10/site-packages (from kubernetes>=28.1.0->chromadb) (2.31.0)\n",
      "Requirement already satisfied: websocket-client!=0.40.0,!=0.41.*,!=0.42.*,>=0.32.0 in /home/ec2-user/anaconda3/envs/python3/lib/python3.10/site-packages (from kubernetes>=28.1.0->chromadb) (1.7.0)\n",
      "Requirement already satisfied: requests in /home/ec2-user/anaconda3/envs/python3/lib/python3.10/site-packages (from kubernetes>=28.1.0->chromadb) (2.32.3)\n",
      "Requirement already satisfied: requests-oauthlib in /home/ec2-user/anaconda3/envs/python3/lib/python3.10/site-packages (from kubernetes>=28.1.0->chromadb) (2.0.0)\n",
      "Requirement already satisfied: oauthlib>=3.2.2 in /home/ec2-user/anaconda3/envs/python3/lib/python3.10/site-packages (from kubernetes>=28.1.0->chromadb) (3.2.2)\n",
      "Requirement already satisfied: urllib3>=1.24.2 in /home/ec2-user/anaconda3/envs/python3/lib/python3.10/site-packages (from kubernetes>=28.1.0->chromadb) (2.2.3)\n",
      "Requirement already satisfied: coloredlogs in /home/ec2-user/anaconda3/envs/python3/lib/python3.10/site-packages (from onnxruntime>=1.14.1->chromadb) (15.0.1)\n",
      "Requirement already satisfied: flatbuffers in /home/ec2-user/anaconda3/envs/python3/lib/python3.10/site-packages (from onnxruntime>=1.14.1->chromadb) (24.3.25)\n",
      "Requirement already satisfied: protobuf in /home/ec2-user/anaconda3/envs/python3/lib/python3.10/site-packages (from onnxruntime>=1.14.1->chromadb) (4.25.3)\n",
      "Requirement already satisfied: sympy in /home/ec2-user/anaconda3/envs/python3/lib/python3.10/site-packages (from onnxruntime>=1.14.1->chromadb) (1.12)\n",
      "Requirement already satisfied: deprecated>=1.2.6 in /home/ec2-user/anaconda3/envs/python3/lib/python3.10/site-packages (from opentelemetry-api>=1.2.0->chromadb) (1.2.14)\n",
      "Requirement already satisfied: importlib-metadata<=7.1,>=6.0 in /home/ec2-user/anaconda3/envs/python3/lib/python3.10/site-packages (from opentelemetry-api>=1.2.0->chromadb) (6.11.0)\n",
      "Requirement already satisfied: googleapis-common-protos~=1.52 in /home/ec2-user/anaconda3/envs/python3/lib/python3.10/site-packages (from opentelemetry-exporter-otlp-proto-grpc>=1.2.0->chromadb) (1.63.2)\n",
      "Requirement already satisfied: opentelemetry-exporter-otlp-proto-common==1.25.0 in /home/ec2-user/anaconda3/envs/python3/lib/python3.10/site-packages (from opentelemetry-exporter-otlp-proto-grpc>=1.2.0->chromadb) (1.25.0)\n",
      "Requirement already satisfied: opentelemetry-proto==1.25.0 in /home/ec2-user/anaconda3/envs/python3/lib/python3.10/site-packages (from opentelemetry-exporter-otlp-proto-grpc>=1.2.0->chromadb) (1.25.0)\n",
      "Requirement already satisfied: opentelemetry-instrumentation-asgi==0.46b0 in /home/ec2-user/anaconda3/envs/python3/lib/python3.10/site-packages (from opentelemetry-instrumentation-fastapi>=0.41b0->chromadb) (0.46b0)\n",
      "Requirement already satisfied: opentelemetry-instrumentation==0.46b0 in /home/ec2-user/anaconda3/envs/python3/lib/python3.10/site-packages (from opentelemetry-instrumentation-fastapi>=0.41b0->chromadb) (0.46b0)\n",
      "Requirement already satisfied: opentelemetry-semantic-conventions==0.46b0 in /home/ec2-user/anaconda3/envs/python3/lib/python3.10/site-packages (from opentelemetry-instrumentation-fastapi>=0.41b0->chromadb) (0.46b0)\n",
      "Requirement already satisfied: opentelemetry-util-http==0.46b0 in /home/ec2-user/anaconda3/envs/python3/lib/python3.10/site-packages (from opentelemetry-instrumentation-fastapi>=0.41b0->chromadb) (0.46b0)\n",
      "Requirement already satisfied: setuptools>=16.0 in /home/ec2-user/anaconda3/envs/python3/lib/python3.10/site-packages (from opentelemetry-instrumentation==0.46b0->opentelemetry-instrumentation-fastapi>=0.41b0->chromadb) (69.1.0)\n",
      "Requirement already satisfied: wrapt<2.0.0,>=1.0.0 in /home/ec2-user/anaconda3/envs/python3/lib/python3.10/site-packages (from opentelemetry-instrumentation==0.46b0->opentelemetry-instrumentation-fastapi>=0.41b0->chromadb) (1.16.0)\n",
      "Requirement already satisfied: asgiref~=3.0 in /home/ec2-user/anaconda3/envs/python3/lib/python3.10/site-packages (from opentelemetry-instrumentation-asgi==0.46b0->opentelemetry-instrumentation-fastapi>=0.41b0->chromadb) (3.8.1)\n",
      "Requirement already satisfied: monotonic>=1.5 in /home/ec2-user/anaconda3/envs/python3/lib/python3.10/site-packages (from posthog>=2.4.0->chromadb) (1.6)\n",
      "Requirement already satisfied: backoff>=1.10.0 in /home/ec2-user/anaconda3/envs/python3/lib/python3.10/site-packages (from posthog>=2.4.0->chromadb) (2.2.1)\n",
      "Requirement already satisfied: annotated-types>=0.6.0 in /home/ec2-user/anaconda3/envs/python3/lib/python3.10/site-packages (from pydantic>=1.9->chromadb) (0.6.0)\n",
      "Requirement already satisfied: pydantic-core==2.23.4 in /home/ec2-user/anaconda3/envs/python3/lib/python3.10/site-packages (from pydantic>=1.9->chromadb) (2.23.4)\n",
      "Requirement already satisfied: huggingface-hub<1.0,>=0.16.4 in /home/ec2-user/anaconda3/envs/python3/lib/python3.10/site-packages (from tokenizers>=0.13.2->chromadb) (0.25.2)\n",
      "Requirement already satisfied: click<9.0.0,>=7.1.1 in /home/ec2-user/anaconda3/envs/python3/lib/python3.10/site-packages (from typer>=0.9.0->chromadb) (8.1.7)\n",
      "Requirement already satisfied: httptools>=0.5.0 in /home/ec2-user/anaconda3/envs/python3/lib/python3.10/site-packages (from uvicorn[standard]>=0.18.3->chromadb) (0.6.1)\n",
      "Requirement already satisfied: python-dotenv>=0.13 in /home/ec2-user/anaconda3/envs/python3/lib/python3.10/site-packages (from uvicorn[standard]>=0.18.3->chromadb) (1.0.1)\n",
      "Requirement already satisfied: uvloop!=0.15.0,!=0.15.1,>=0.14.0 in /home/ec2-user/anaconda3/envs/python3/lib/python3.10/site-packages (from uvicorn[standard]>=0.18.3->chromadb) (0.19.0)\n",
      "Requirement already satisfied: watchfiles>=0.13 in /home/ec2-user/anaconda3/envs/python3/lib/python3.10/site-packages (from uvicorn[standard]>=0.18.3->chromadb) (0.22.0)\n",
      "Requirement already satisfied: websockets>=10.4 in /home/ec2-user/anaconda3/envs/python3/lib/python3.10/site-packages (from uvicorn[standard]>=0.18.3->chromadb) (10.4)\n",
      "Requirement already satisfied: cachetools<6.0,>=2.0.0 in /home/ec2-user/anaconda3/envs/python3/lib/python3.10/site-packages (from google-auth>=1.0.1->kubernetes>=28.1.0->chromadb) (5.3.3)\n",
      "Requirement already satisfied: pyasn1-modules>=0.2.1 in /home/ec2-user/anaconda3/envs/python3/lib/python3.10/site-packages (from google-auth>=1.0.1->kubernetes>=28.1.0->chromadb) (0.4.0)\n",
      "Requirement already satisfied: rsa<5,>=3.1.4 in /home/ec2-user/anaconda3/envs/python3/lib/python3.10/site-packages (from google-auth>=1.0.1->kubernetes>=28.1.0->chromadb) (4.7.2)\n",
      "Requirement already satisfied: filelock in /home/ec2-user/anaconda3/envs/python3/lib/python3.10/site-packages (from huggingface-hub<1.0,>=0.16.4->tokenizers>=0.13.2->chromadb) (3.13.1)\n",
      "Requirement already satisfied: fsspec>=2023.5.0 in /home/ec2-user/anaconda3/envs/python3/lib/python3.10/site-packages (from huggingface-hub<1.0,>=0.16.4->tokenizers>=0.13.2->chromadb) (2024.2.0)\n",
      "Requirement already satisfied: zipp>=0.5 in /home/ec2-user/anaconda3/envs/python3/lib/python3.10/site-packages (from importlib-metadata<=7.1,>=6.0->opentelemetry-api>=1.2.0->chromadb) (3.17.0)\n",
      "Requirement already satisfied: charset-normalizer<4,>=2 in /home/ec2-user/anaconda3/envs/python3/lib/python3.10/site-packages (from requests->kubernetes>=28.1.0->chromadb) (3.3.2)\n",
      "Requirement already satisfied: exceptiongroup>=1.0.2 in /home/ec2-user/anaconda3/envs/python3/lib/python3.10/site-packages (from anyio->httpx>=0.27.0->chromadb) (1.2.0)\n",
      "Requirement already satisfied: humanfriendly>=9.1 in /home/ec2-user/anaconda3/envs/python3/lib/python3.10/site-packages (from coloredlogs->onnxruntime>=1.14.1->chromadb) (10.0)\n",
      "Requirement already satisfied: mpmath>=0.19 in /home/ec2-user/anaconda3/envs/python3/lib/python3.10/site-packages (from sympy->onnxruntime>=1.14.1->chromadb) (1.3.0)\n",
      "Requirement already satisfied: pyasn1<0.7.0,>=0.4.6 in /home/ec2-user/anaconda3/envs/python3/lib/python3.10/site-packages (from pyasn1-modules>=0.2.1->google-auth>=1.0.1->kubernetes>=28.1.0->chromadb) (0.6.0)\n"
     ]
    }
   ],
   "source": [
    "!pip install chromadb"
   ]
  },
  {
   "cell_type": "code",
   "execution_count": 24,
   "id": "fd08ddb8-7f5a-4bf7-870c-28ee3b812c7d",
   "metadata": {
    "tags": []
   },
   "outputs": [],
   "source": [
    "vector_store = Chroma.from_documents(documents=splits,\n",
    "                                     embedding=BedrockEmbeddings()\n",
    "                                     )"
   ]
  },
  {
   "cell_type": "markdown",
   "id": "139d07c2-5d72-45b7-b09c-f22128dea882",
   "metadata": {},
   "source": [
    "# Q&A Retrieval Chain"
   ]
  },
  {
   "cell_type": "code",
   "execution_count": 25,
   "id": "5099951d-2798-4796-b4fb-e1e1f6694be0",
   "metadata": {
    "tags": []
   },
   "outputs": [],
   "source": [
    "document_prompt = PromptTemplate(\n",
    "        input_variables=[\"page_content\"],\n",
    "        template=\"Context:\\ncontent:{page_content}\\n\",\n",
    "    )"
   ]
  },
  {
   "cell_type": "code",
   "execution_count": 26,
   "id": "7cfb6453-4d0a-42fb-83c3-68d00eb98cde",
   "metadata": {
    "tags": []
   },
   "outputs": [],
   "source": [
    "QUERY_PROMPT_TEMPLATE = \"\"\"\\\n",
    "H:\n",
    "Answer the question based on the provided context. Do not create false information.\n",
    "{context}\n",
    "Question: {question}\n",
    "A:\n",
    "\"\"\""
   ]
  },
  {
   "cell_type": "code",
   "execution_count": 27,
   "id": "db7a6261-a1eb-4b67-a2ca-91a799e25857",
   "metadata": {
    "tags": []
   },
   "outputs": [],
   "source": [
    "from langchain.chains.combine_documents.stuff import StuffDocumentsChain\n",
    "from langchain.chains.llm import LLMChain"
   ]
  },
  {
   "cell_type": "code",
   "execution_count": 28,
   "id": "40d056a2-a402-4fe2-8074-66a0b0b9aab2",
   "metadata": {
    "tags": []
   },
   "outputs": [],
   "source": [
    "QA_CHAIN_PROMPT = PromptTemplate.from_template(QUERY_PROMPT_TEMPLATE) # prompt_template defined above"
   ]
  },
  {
   "cell_type": "code",
   "execution_count": 29,
   "id": "40781d78-244a-4782-9b63-5cb8313c4260",
   "metadata": {
    "tags": []
   },
   "outputs": [
    {
     "name": "stderr",
     "output_type": "stream",
     "text": [
      "/tmp/ipykernel_14333/2127955414.py:1: LangChainDeprecationWarning: The class `LLMChain` was deprecated in LangChain 0.1.17 and will be removed in 1.0. Use :meth:`~RunnableSequence, e.g., `prompt | llm`` instead.\n",
      "  llm_chain = LLMChain(llm=llm_text, prompt=QA_CHAIN_PROMPT, callbacks=None, verbose=True)\n"
     ]
    }
   ],
   "source": [
    "llm_chain = LLMChain(llm=llm_text, prompt=QA_CHAIN_PROMPT, callbacks=None, verbose=True)"
   ]
  },
  {
   "cell_type": "code",
   "execution_count": 30,
   "id": "a7f085b6-70f6-480c-a35b-c9a46dfadafc",
   "metadata": {
    "tags": []
   },
   "outputs": [
    {
     "name": "stderr",
     "output_type": "stream",
     "text": [
      "/tmp/ipykernel_14333/3771212169.py:1: LangChainDeprecationWarning: This class is deprecated. Use the `create_stuff_documents_chain` constructor instead. See migration guide here: https://python.langchain.com/docs/versions/migrating_chains/stuff_docs_chain/\n",
      "  combine_documents_chain = StuffDocumentsChain(\n"
     ]
    }
   ],
   "source": [
    "combine_documents_chain = StuffDocumentsChain(\n",
    "        llm_chain=llm_chain,\n",
    "        document_variable_name=\"context\",\n",
    "        document_prompt=document_prompt,\n",
    "        callbacks=None,\n",
    "    )"
   ]
  },
  {
   "cell_type": "code",
   "execution_count": 31,
   "id": "81ac63a8-3def-4b1e-8f04-9142a3acd577",
   "metadata": {
    "tags": []
   },
   "outputs": [
    {
     "name": "stderr",
     "output_type": "stream",
     "text": [
      "/tmp/ipykernel_14333/3309099742.py:1: LangChainDeprecationWarning: This class is deprecated. Use the `create_retrieval_chain` constructor instead. See migration guide here: https://python.langchain.com/docs/versions/migrating_chains/retrieval_qa/\n",
      "  qa = RetrievalQA(\n"
     ]
    }
   ],
   "source": [
    "qa = RetrievalQA(\n",
    "        combine_documents_chain=combine_documents_chain,\n",
    "        callbacks=None,\n",
    "        verbose=True,\n",
    "        retriever=vector_store.as_retriever(search_kwargs={'k': 1}),\n",
    "        return_source_documents=True,\n",
    "    )"
   ]
  },
  {
   "cell_type": "markdown",
   "id": "d36346f6-60e4-47ad-90a2-89d8592dfe8a",
   "metadata": {},
   "source": [
    "# 질문에 대한 답변 테스트"
   ]
  },
  {
   "cell_type": "code",
   "execution_count": 32,
   "id": "8ed9b7e3-c6aa-4ddb-9047-c4a26c2dab6b",
   "metadata": {
    "tags": []
   },
   "outputs": [],
   "source": [
    "question = '온디맨드 용량 예약 방식와 예약 인스턴스의 방식의 차이는 무엇입니까?'"
   ]
  },
  {
   "cell_type": "code",
   "execution_count": 33,
   "id": "fd601a4c-4a15-4332-a8b9-2c6237bc287e",
   "metadata": {
    "tags": []
   },
   "outputs": [
    {
     "name": "stderr",
     "output_type": "stream",
     "text": [
      "/tmp/ipykernel_14333/3271077376.py:1: LangChainDeprecationWarning: The method `Chain.__call__` was deprecated in langchain 0.1.0 and will be removed in 1.0. Use :meth:`~invoke` instead.\n",
      "  res = qa(question)\n"
     ]
    },
    {
     "name": "stdout",
     "output_type": "stream",
     "text": [
      "\n",
      "\n",
      "\u001b[1m> Entering new RetrievalQA chain...\u001b[0m\n",
      "\n",
      "\n",
      "\u001b[1m> Entering new LLMChain chain...\u001b[0m\n",
      "Prompt after formatting:\n",
      "\u001b[32;1m\u001b[1;3mH:\n",
      "Answer the question based on the provided context. Do not create false information.\n",
      "Context:\n",
      "content:전용 호스트  \n",
      "온디맨드 또는 절감형 플랜의 일부로 고객 전용 물리적 EC2 서버를 사용하여 비용을 절감합니다.\n",
      "기존 서버 기반 소프트웨어 라이선스를 사용하면 규정 준수 요구 사항을 충족하는 데 도움을 받을\n",
      "수 있습니다.  \n",
      "온디맨드 용량 예약  \n",
      "원하는 기간 동안 특정 가용 영역의 EC2 인스턴스에 대해 용량을 예약합니다.  \n",
      "초당 청구  \n",
      "청구서에서 사용하지 않은 분 및 초 단위의 비용을 제거합니다.\n",
      "\n",
      "Question: 온디맨드 용량 예약 방식와 예약 인스턴스의 방식의 차이는 무엇입니까?\n",
      "A:\n",
      "\u001b[0m\n",
      "\n",
      "\u001b[1m> Finished chain.\u001b[0m\n",
      "\n",
      "\u001b[1m> Finished chain.\u001b[0m\n"
     ]
    }
   ],
   "source": [
    "res = qa(question)"
   ]
  },
  {
   "cell_type": "code",
   "execution_count": 35,
   "id": "9b80caf0-f6be-4be1-9d1a-ce2acaf425b0",
   "metadata": {
    "tags": []
   },
   "outputs": [
    {
     "name": "stdout",
     "output_type": "stream",
     "text": [
      "제공된 문맥에는 예약 인스턴스에 대한 구체적인 정보가 없기 때문에 예약 인스턴스와 온디맨드 용량 예약의 정확한 차이점을 설명하기는 어렵습니다. \n",
      "\n",
      "그러나 온디맨드 용량 예약에 대해서는 다음과 같은 정보가 주어져 있습니다:\n",
      "\n",
      "\"온디맨드 용량 예약 - 원하는 기간 동안 특정 가용 영역의 EC2 인스턴스에 대해 용량을 예약합니다.\"\n",
      "\n",
      "이는 특정 가용 영역에서 EC2 인스턴스 용량을 일정 기간 동안 예약할 수 있다는 것을 의미합니다. 하지만 예약 인스턴스와의 구체적인 차이점을 설명하기에는 주어진 정보가 충분하지 않습니다.\n"
     ]
    }
   ],
   "source": [
    "print(res['result'])"
   ]
  },
  {
   "cell_type": "markdown",
   "id": "129b611a-ba8c-48ea-9853-9ffdcc2402db",
   "metadata": {},
   "source": [
    "# 결론"
   ]
  },
  {
   "cell_type": "markdown",
   "id": "2b214594-0037-4dfd-8423-63b3e5a3e870",
   "metadata": {
    "tags": []
   },
   "source": [
    "### Child chunk만 이용했을 때는, \"온디맨드 용량 예약\"에 대한 정보만 context로 활용되고 있기 때문에 정확한 답변을 하지 못하고 있습니다."
   ]
  },
  {
   "cell_type": "code",
   "execution_count": null,
   "id": "bf937a48-e105-45c2-8d59-1ab482d337e1",
   "metadata": {},
   "outputs": [],
   "source": []
  },
  {
   "cell_type": "code",
   "execution_count": null,
   "id": "87f735f6-3179-41f1-9e0e-bb631ce5661b",
   "metadata": {},
   "outputs": [],
   "source": []
  }
 ],
 "metadata": {
  "kernelspec": {
   "display_name": "conda_python3",
   "language": "python",
   "name": "conda_python3"
  },
  "language_info": {
   "codemirror_mode": {
    "name": "ipython",
    "version": 3
   },
   "file_extension": ".py",
   "mimetype": "text/x-python",
   "name": "python",
   "nbconvert_exporter": "python",
   "pygments_lexer": "ipython3",
   "version": "3.10.13"
  }
 },
 "nbformat": 4,
 "nbformat_minor": 5
}
